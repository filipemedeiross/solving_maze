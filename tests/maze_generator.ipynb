{
 "cells": [
  {
   "cell_type": "markdown",
   "id": "0237d668",
   "metadata": {},
   "source": [
    "# DEVELOPING THE MAZE GENERATOR"
   ]
  },
  {
   "cell_type": "markdown",
   "id": "e0a7201b",
   "metadata": {},
   "source": [
    "Importing the libraries:"
   ]
  },
  {
   "cell_type": "code",
   "execution_count": 1,
   "id": "967c2be2",
   "metadata": {},
   "outputs": [],
   "source": [
    "import numpy as np"
   ]
  },
  {
   "cell_type": "markdown",
   "id": "6e39c23a",
   "metadata": {},
   "source": [
    "Defining auxiliary classes:"
   ]
  },
  {
   "cell_type": "code",
   "execution_count": 2,
   "id": "79e04eb8",
   "metadata": {},
   "outputs": [],
   "source": [
    "class UnionFind:\n",
    "    def __init__(self, n):\n",
    "        self.n = n  # number of supernodes\n",
    "        self.v = [i for i in range(n)]  # represents the parents (initially each disjoint set has a single vertex)\n",
    "\n",
    "    def find(self, u):\n",
    "        while u != self.v[u]:\n",
    "            self.v[u] = self.v[self.v[u]]  # compression technique\n",
    "            u = self.v[u]\n",
    "            \n",
    "        return u\n",
    "    \n",
    "    def union(self, u, v):\n",
    "        root_u, root_v = self.find(u), self.find(v)\n",
    "        \n",
    "        if root_u == root_v:\n",
    "            return False  # union was not performed\n",
    "        else:\n",
    "            self.v[root_v] = root_u\n",
    "            self.n -= 1\n",
    "\n",
    "            return True  # union was not performed"
   ]
  },
  {
   "cell_type": "markdown",
   "id": "0766a56e",
   "metadata": {},
   "source": [
    "Defining the maze generator:\n",
    "\n",
    " - Labyrinth is represented by an adjacency list, as the resulting graph will always be sparse"
   ]
  },
  {
   "cell_type": "code",
   "execution_count": 3,
   "id": "466c06c0",
   "metadata": {},
   "outputs": [],
   "source": [
    "# Class for the maze generator\n",
    "# Inspired by a randomized Kruskal algorithm\n",
    "class MazeGenerator:\n",
    "    def __init__(self, N=100):\n",
    "        self.N = N  # number os cells (default is a 10x10 grid)\n",
    "        \n",
    "        self.walls = self.generate_walls()\n",
    "        \n",
    "    def new_maze(self):\n",
    "        maze = [[] for _ in range(self.N)]  # data structure to store the maze\n",
    "        \n",
    "        # Copy the walls (edges) and create a set for each cell\n",
    "        walls = self.walls.copy()\n",
    "        forest = UnionFind(self.N)\n",
    "                \n",
    "        # Generate a maze (represented by an adjacency list)\n",
    "        while forest.n > 1:\n",
    "            v, w = walls.pop(np.random.randint(0, len(walls)))\n",
    "            \n",
    "            if forest.union(v, w):\n",
    "                maze[v].append(w)  # adding (v,w) in the maze\n",
    "                maze[w].append(v)  # adding (w,v) in the maze\n",
    "                \n",
    "        return maze\n",
    "                \n",
    "    @staticmethod\n",
    "    def actions(N, v):\n",
    "        maze_shape = int(N**0.5)\n",
    "\n",
    "        actions = []\n",
    "        if v % maze_shape != 0:\n",
    "            actions.append((v, v-1))\n",
    "        if (v+1) % maze_shape != 0:\n",
    "            actions.append((v, v+1))\n",
    "        if v >= maze_shape:\n",
    "            actions.append((v, v-maze_shape))\n",
    "        if v+maze_shape < N:\n",
    "            actions.append((v, v+maze_shape))\n",
    "\n",
    "        return actions  # possible actions in cell v\n",
    "\n",
    "    def generate_walls(self):\n",
    "        walls = []\n",
    "        \n",
    "        # Movement represents the existence or not of a wall\n",
    "        for v in range(self.N):\n",
    "            walls.extend(self.actions(self.N, v))\n",
    "\n",
    "        return walls"
   ]
  },
  {
   "cell_type": "markdown",
   "id": "009b31f8",
   "metadata": {},
   "source": [
    "Testing the generator:"
   ]
  },
  {
   "cell_type": "code",
   "execution_count": 4,
   "id": "15d9ae52",
   "metadata": {},
   "outputs": [
    {
     "data": {
      "text/plain": [
       "[[10],\n",
       " [2],\n",
       " [3, 1],\n",
       " [2, 4],\n",
       " [3, 14],\n",
       " [6, 15],\n",
       " [5, 7],\n",
       " [6],\n",
       " [9],\n",
       " [8, 19],\n",
       " [0, 11, 20],\n",
       " [10],\n",
       " [22],\n",
       " [14],\n",
       " [24, 13, 4],\n",
       " [5, 25],\n",
       " [17],\n",
       " [16, 27],\n",
       " [28],\n",
       " [29, 9],\n",
       " [21, 30, 10],\n",
       " [20, 31, 22],\n",
       " [32, 23, 12, 21],\n",
       " [22, 24],\n",
       " [14, 23],\n",
       " [15, 26],\n",
       " [27, 25],\n",
       " [26, 28, 17],\n",
       " [29, 27, 18],\n",
       " [19, 28, 39],\n",
       " [20],\n",
       " [21],\n",
       " [22, 33, 42],\n",
       " [32, 43],\n",
       " [35, 44],\n",
       " [36, 34, 45],\n",
       " [35, 37],\n",
       " [47, 38, 36],\n",
       " [37],\n",
       " [49, 29],\n",
       " [41, 50],\n",
       " [40],\n",
       " [32],\n",
       " [53, 33],\n",
       " [34],\n",
       " [35],\n",
       " [47, 56],\n",
       " [46, 37, 57],\n",
       " [49, 58],\n",
       " [39, 48],\n",
       " [60, 51, 40],\n",
       " [50],\n",
       " [53, 62],\n",
       " [52, 63, 43],\n",
       " [64, 55],\n",
       " [54, 56, 65],\n",
       " [55, 46],\n",
       " [47, 58],\n",
       " [48, 59, 57],\n",
       " [58],\n",
       " [50, 70, 61],\n",
       " [62, 60],\n",
       " [61, 52, 72],\n",
       " [53, 64],\n",
       " [54, 63],\n",
       " [66, 55],\n",
       " [65, 67],\n",
       " [77, 68, 66],\n",
       " [67, 69],\n",
       " [79, 68],\n",
       " [80, 60],\n",
       " [81],\n",
       " [62],\n",
       " [74],\n",
       " [75, 73, 84],\n",
       " [74],\n",
       " [86, 77],\n",
       " [67, 76],\n",
       " [79],\n",
       " [69, 78],\n",
       " [90, 70],\n",
       " [71, 91],\n",
       " [83],\n",
       " [84, 82],\n",
       " [94, 83, 74],\n",
       " [86],\n",
       " [85, 76, 87],\n",
       " [86, 97],\n",
       " [98, 89],\n",
       " [88],\n",
       " [91, 80],\n",
       " [92, 90, 81],\n",
       " [91, 93],\n",
       " [92, 94],\n",
       " [84, 93, 95],\n",
       " [94],\n",
       " [97],\n",
       " [98, 87, 96],\n",
       " [88, 99, 97],\n",
       " [98]]"
      ]
     },
     "execution_count": 4,
     "metadata": {},
     "output_type": "execute_result"
    }
   ],
   "source": [
    "# Using the default of 100 cells\n",
    "\n",
    "generator = MazeGenerator()\n",
    "\n",
    "maze = generator.new_maze()\n",
    "\n",
    "maze"
   ]
  },
  {
   "cell_type": "markdown",
   "id": "91356ed4",
   "metadata": {},
   "source": [
    "Printing the results:"
   ]
  },
  {
   "cell_type": "code",
   "execution_count": 5,
   "id": "12d5e8f9",
   "metadata": {},
   "outputs": [
    {
     "name": "stdout",
     "output_type": "stream",
     "text": [
      "x|x x x x|x x x|x x\n",
      "  _ _ _     _ _ _   \n",
      "x x|x|x x|x|x x|x|x\n",
      "  _   _     _       \n",
      "x x x x x|x x x x x\n",
      "      _ _ _ _ _ _   \n",
      "x|x|x x|x x x x x|x\n",
      "_ _         _   _   \n",
      "x x|x|x|x|x|x x|x x\n",
      "  _ _   _ _       _ \n",
      "x x|x x|x x x|x x x\n",
      "  _         _ _ _ _ \n",
      "x x x|x x|x x x x x\n",
      "  _   _ _ _ _   _   \n",
      "x|x|x|x x x|x x|x x\n",
      "    _ _   _   _ _ _ \n",
      "x|x|x x x|x x x|x x\n",
      "    _ _   _ _     _ \n",
      "x x x x x x|x x x x\n"
     ]
    }
   ],
   "source": [
    "maze_shape = int(generator.N**0.5)\n",
    "\n",
    "for row in range(maze_shape):\n",
    "    for col in range(maze_shape-1):\n",
    "        print('x', end='')\n",
    "        \n",
    "        if row*10+col in maze[row*10+col+1]:\n",
    "            print(' ', end='')\n",
    "        else:\n",
    "            print('|', end='')\n",
    "            \n",
    "    print('x')\n",
    "    \n",
    "    if row != 9:\n",
    "        for col in range(maze_shape):\n",
    "            if row*10+col in maze[(row+1)*10+col]:\n",
    "                print('  ', end='')\n",
    "            else:\n",
    "                print('_ ', end='')\n",
    "                \n",
    "        print()"
   ]
  }
 ],
 "metadata": {
  "kernelspec": {
   "display_name": "Python 3 (ipykernel)",
   "language": "python",
   "name": "python3"
  },
  "language_info": {
   "codemirror_mode": {
    "name": "ipython",
    "version": 3
   },
   "file_extension": ".py",
   "mimetype": "text/x-python",
   "name": "python",
   "nbconvert_exporter": "python",
   "pygments_lexer": "ipython3",
   "version": "3.8.10"
  }
 },
 "nbformat": 4,
 "nbformat_minor": 5
}
