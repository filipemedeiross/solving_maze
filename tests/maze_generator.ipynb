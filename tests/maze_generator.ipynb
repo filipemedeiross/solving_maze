{
 "cells": [
  {
   "cell_type": "markdown",
   "id": "0237d668",
   "metadata": {},
   "source": [
    "# DEVELOPING THE MAZE GENERATOR"
   ]
  },
  {
   "cell_type": "markdown",
   "id": "e0a7201b",
   "metadata": {},
   "source": [
    "Importing the libraries:"
   ]
  },
  {
   "cell_type": "code",
   "execution_count": 1,
   "id": "967c2be2",
   "metadata": {},
   "outputs": [],
   "source": [
    "import numpy as np"
   ]
  },
  {
   "cell_type": "markdown",
   "id": "6e39c23a",
   "metadata": {},
   "source": [
    "Defining auxiliary classes:"
   ]
  },
  {
   "cell_type": "code",
   "execution_count": 2,
   "id": "79e04eb8",
   "metadata": {},
   "outputs": [],
   "source": [
    "class UnionFind:\n",
    "    def __init__(self, n):\n",
    "        self.n = n  # number of supernodes\n",
    "        self.v = [i for i in range(n)]  # represents the parents (initially each disjoint set has a single vertex)\n",
    "\n",
    "    def find(self, u):\n",
    "        while u != self.v[u]:\n",
    "            self.v[u] = self.v[self.v[u]]  # compression technique\n",
    "            u = self.v[u]\n",
    "            \n",
    "        return u\n",
    "    \n",
    "    def union(self, u, v):\n",
    "        root_u, root_v = self.find(u), self.find(v)\n",
    "        \n",
    "        if root_u == root_v:\n",
    "            return False  # union was not performed\n",
    "        else:\n",
    "            self.v[root_v] = root_u\n",
    "            self.n -= 1\n",
    "\n",
    "            return True  # union was not performed"
   ]
  },
  {
   "cell_type": "markdown",
   "id": "0766a56e",
   "metadata": {},
   "source": [
    "Defining the maze generator:\n",
    "\n",
    " - Labyrinth is represented by an adjacency list, as the resulting graph will always be sparse"
   ]
  },
  {
   "cell_type": "code",
   "execution_count": 3,
   "id": "466c06c0",
   "metadata": {},
   "outputs": [],
   "source": [
    "# Class for the maze generator\n",
    "# Inspired by a randomized Kruskal algorithm\n",
    "class MazeGenerator:\n",
    "    def __init__(self, N=100):\n",
    "        self.N = N  # number os cells (default is a 10x10 grid)\n",
    "        \n",
    "        self.walls = self.generate_walls(self.N)\n",
    "        \n",
    "    def new_maze(self):\n",
    "        maze = [[] for _ in range(self.N)]  # data structure to store the maze\n",
    "        \n",
    "        # Create a set for each cell and shuffle list of walls (edges)\n",
    "        forest = UnionFind(self.N)\n",
    "        \n",
    "        walls = self.walls.copy()\n",
    "        np.random.shuffle(walls)\n",
    "        \n",
    "        # Generate a maze (represented by an adjacency list)\n",
    "        while forest.n > 1:\n",
    "            v, w = walls.pop(np.random.randint(0, len(walls)))\n",
    "            \n",
    "            if forest.union(v, w):\n",
    "                maze[v].append(w)  # adding (v,w) in the maze\n",
    "                maze[w].append(v)  # adding (w,v) in the maze\n",
    "                \n",
    "        return maze\n",
    "                \n",
    "    @staticmethod\n",
    "    def actions(N, v):\n",
    "        maze_shape = int(N**0.5)\n",
    "\n",
    "        actions = []\n",
    "        if v % maze_shape != 0:\n",
    "            actions.append((v, v-1))\n",
    "        if (v+1) % maze_shape != 0:\n",
    "            actions.append((v, v+1))\n",
    "        if v >= maze_shape:\n",
    "            actions.append((v, v-maze_shape))\n",
    "        if v+maze_shape < N:\n",
    "            actions.append((v, v+maze_shape))\n",
    "\n",
    "        return actions  # possible actions in cell v\n",
    "\n",
    "    def generate_walls(self, N):\n",
    "        walls = []\n",
    "        \n",
    "        # Movement represents the existence or not of a wall\n",
    "        for v in range(N):\n",
    "            walls.extend(self.actions(N, v))\n",
    "\n",
    "        return walls"
   ]
  },
  {
   "cell_type": "markdown",
   "id": "009b31f8",
   "metadata": {},
   "source": [
    "Testing the generator:"
   ]
  },
  {
   "cell_type": "code",
   "execution_count": 4,
   "id": "15d9ae52",
   "metadata": {},
   "outputs": [
    {
     "data": {
      "text/plain": [
       "[[1],\n",
       " [11, 0, 2],\n",
       " [1],\n",
       " [13, 4],\n",
       " [3],\n",
       " [6, 15],\n",
       " [5],\n",
       " [17, 8],\n",
       " [9, 7],\n",
       " [8, 19],\n",
       " [11],\n",
       " [1, 12, 10],\n",
       " [11, 13],\n",
       " [23, 3, 14, 12],\n",
       " [24, 13, 15],\n",
       " [16, 5, 14],\n",
       " [26, 15],\n",
       " [7],\n",
       " [28],\n",
       " [29, 9],\n",
       " [21, 30],\n",
       " [20, 31],\n",
       " [23],\n",
       " [13, 22],\n",
       " [14],\n",
       " [26, 35],\n",
       " [16, 36, 25, 27],\n",
       " [26, 28],\n",
       " [18, 29, 27, 38],\n",
       " [19, 28],\n",
       " [20],\n",
       " [41, 21],\n",
       " [42],\n",
       " [34],\n",
       " [35, 33],\n",
       " [34, 25],\n",
       " [26, 37],\n",
       " [36],\n",
       " [48, 28],\n",
       " [49],\n",
       " [50],\n",
       " [31, 51],\n",
       " [52, 32],\n",
       " [44],\n",
       " [43, 54],\n",
       " [46],\n",
       " [45, 47],\n",
       " [46, 48, 57],\n",
       " [47, 38],\n",
       " [59, 39],\n",
       " [60, 40, 51],\n",
       " [52, 50, 41],\n",
       " [53, 42, 51, 62],\n",
       " [52, 54, 63],\n",
       " [55, 44, 53],\n",
       " [65, 54, 56],\n",
       " [57, 55],\n",
       " [58, 56, 47],\n",
       " [57, 68],\n",
       " [49, 69],\n",
       " [50, 70],\n",
       " [71],\n",
       " [72, 52],\n",
       " [53],\n",
       " [74],\n",
       " [55],\n",
       " [67],\n",
       " [68, 66, 77],\n",
       " [67, 58, 69],\n",
       " [59, 68],\n",
       " [71, 60, 80],\n",
       " [70, 61],\n",
       " [82, 73, 62],\n",
       " [72, 74],\n",
       " [64, 73],\n",
       " [85],\n",
       " [86],\n",
       " [87, 67],\n",
       " [88, 79],\n",
       " [78],\n",
       " [90, 70],\n",
       " [91, 82],\n",
       " [72, 92, 83, 81],\n",
       " [82],\n",
       " [85],\n",
       " [75, 86, 84],\n",
       " [76, 85, 96],\n",
       " [88, 77],\n",
       " [78, 98, 87],\n",
       " [99],\n",
       " [80],\n",
       " [81],\n",
       " [82, 93],\n",
       " [94, 92],\n",
       " [93, 95],\n",
       " [96, 94],\n",
       " [86, 95],\n",
       " [98],\n",
       " [99, 88, 97],\n",
       " [98, 89]]"
      ]
     },
     "execution_count": 4,
     "metadata": {},
     "output_type": "execute_result"
    }
   ],
   "source": [
    "# Using the default of 100 cells\n",
    "\n",
    "generator = MazeGenerator()\n",
    "\n",
    "maze = generator.new_maze()\n",
    "\n",
    "maze"
   ]
  },
  {
   "cell_type": "markdown",
   "id": "91356ed4",
   "metadata": {},
   "source": [
    "Printing the results:"
   ]
  },
  {
   "cell_type": "code",
   "execution_count": 5,
   "id": "12d5e8f9",
   "metadata": {},
   "outputs": [
    {
     "name": "stdout",
     "output_type": "stream",
     "text": [
      "x x x|x x|x x|x x x\n",
      "_   _   _   _   _   \n",
      "x x x x x x x|x|x|x\n",
      "_ _ _     _   _     \n",
      "x x|x x|x|x x x x x\n",
      "    _ _ _     _   _ \n",
      "x|x|x|x x x|x x|x|x\n",
      "_     _ _ _ _ _     \n",
      "x|x|x|x x|x x x x|x\n",
      "      _   _ _   _   \n",
      "x x x x x x x x x|x\n",
      "  _     _   _ _     \n",
      "x|x|x|x|x|x|x x x x\n",
      "      _   _ _   _ _ \n",
      "x x|x x x|x|x|x|x x\n",
      "  _   _ _         _ \n",
      "x|x x x|x x x|x x|x\n",
      "      _ _ _   _     \n",
      "x|x|x x x x x|x x x\n"
     ]
    }
   ],
   "source": [
    "maze_shape = int(generator.N**0.5)\n",
    "\n",
    "for row in range(maze_shape):\n",
    "    for col in range(maze_shape-1):\n",
    "        print('x', end='')\n",
    "        \n",
    "        if row*10+col in maze[row*10+col+1]:\n",
    "            print(' ', end='')\n",
    "        else:\n",
    "            print('|', end='')\n",
    "            \n",
    "    print('x')\n",
    "    \n",
    "    if row != 9:\n",
    "        for col in range(maze_shape):\n",
    "            if row*10+col in maze[(row+1)*10+col]:\n",
    "                print('  ', end='')\n",
    "            else:\n",
    "                print('_ ', end='')\n",
    "                \n",
    "        print()"
   ]
  }
 ],
 "metadata": {
  "kernelspec": {
   "display_name": "Python 3 (ipykernel)",
   "language": "python",
   "name": "python3"
  },
  "language_info": {
   "codemirror_mode": {
    "name": "ipython",
    "version": 3
   },
   "file_extension": ".py",
   "mimetype": "text/x-python",
   "name": "python",
   "nbconvert_exporter": "python",
   "pygments_lexer": "ipython3",
   "version": "3.8.10"
  }
 },
 "nbformat": 4,
 "nbformat_minor": 5
}
