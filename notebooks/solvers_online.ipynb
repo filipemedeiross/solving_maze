{
 "cells": [
  {
   "cell_type": "markdown",
   "id": "1ad4fd1e",
   "metadata": {},
   "source": [
    "# SOLVERS ONLINE"
   ]
  },
  {
   "cell_type": "markdown",
   "id": "4c7b48f0-a614-4405-aaa2-5d48c949d818",
   "metadata": {
    "jp-MarkdownHeadingCollapsed": true
   },
   "source": [
    "## PREPARING THE DEVELOPMENT ENVIRONMENT"
   ]
  },
  {
   "cell_type": "markdown",
   "id": "8b36c88a-e36f-4e2a-82e4-125cbcf52183",
   "metadata": {},
   "source": [
    "Including path to previous directory in built-in variable `sys.path`, allowing access to the `maze` package:"
   ]
  },
  {
   "cell_type": "code",
   "execution_count": 1,
   "id": "c2071883-983b-49b8-a14d-775575ed560b",
   "metadata": {},
   "outputs": [],
   "source": [
    "import sys\n",
    "\n",
    "sys.path.append('../')"
   ]
  },
  {
   "cell_type": "markdown",
   "id": "b0d659f6",
   "metadata": {},
   "source": [
    "Importing the libraries:"
   ]
  },
  {
   "cell_type": "code",
   "execution_count": 2,
   "id": "037eb360",
   "metadata": {},
   "outputs": [
    {
     "name": "stdout",
     "output_type": "stream",
     "text": [
      "pygame 2.5.2 (SDL 2.28.3, Python 3.11.4)\n",
      "Hello from the pygame community. https://www.pygame.org/contribute.html\n"
     ]
    }
   ],
   "source": [
    "import pandas as pd\n",
    "import seaborn as sns\n",
    "import matplotlib.pyplot as plt\n",
    "\n",
    "from collections import defaultdict\n",
    "from maze.generators import DFSMazeGenerator,  \\\n",
    "                            PrimMazeGenerator, \\\n",
    "                            KruskalMazeGenerator"
   ]
  },
  {
   "cell_type": "markdown",
   "id": "34368901-d1cb-4c86-b719-569106059437",
   "metadata": {},
   "source": [
    "Auxiliary function to print the maze and the intelligent agent:\n",
    "\n",
    "- `(x, y)` represents the position of the agent"
   ]
  },
  {
   "cell_type": "code",
   "execution_count": 3,
   "id": "9c1147b4-0ad2-4445-a820-02b06a11c39e",
   "metadata": {},
   "outputs": [],
   "source": [
    "def is_conn(graph, v, w):\n",
    "    return v in graph[w]\n",
    "\n",
    "def get_character(maze, x, y, r, c):\n",
    "    return 'X' if x == c and y == r else 'O'\n",
    "\n",
    "def get_row(maze, r, c, n):\n",
    "    v = n * r + c\n",
    "\n",
    "    return ' ' if is_conn(maze, v, v+1) else '|'\n",
    "\n",
    "def get_col(maze, r, c, n):\n",
    "    v = n * r + c\n",
    "\n",
    "    return '  ' if is_conn(maze, v, v+n) else '_ '\n",
    "\n",
    "def print_maze(n, maze, x, y):\n",
    "    for r in range(n):\n",
    "        for c in range(n-1):\n",
    "            print(get_character(maze, x, y, r, c),\n",
    "                  end=get_row(maze, r, c, n))\n",
    "\n",
    "        print(get_character(maze, x, y, r, c+1))\n",
    "\n",
    "        if r != n-1:\n",
    "            for c in range(n):\n",
    "                print(end=get_col(maze, r, c, n))\n",
    "\n",
    "            print()"
   ]
  },
  {
   "cell_type": "markdown",
   "id": "16a6b1ba-5c42-45e9-b83f-3a5d56d9d7fc",
   "metadata": {
    "jp-MarkdownHeadingCollapsed": true
   },
   "source": [
    "## MAZE LOGIC"
   ]
  },
  {
   "cell_type": "markdown",
   "id": "4b37423c",
   "metadata": {},
   "source": [
    "Implementing maze logic:\n",
    "\n",
    "- Class responsible for the maze\n",
    "- The constructor generates a new grid that represents a maze\n",
    "- Default is a 10x10 grid\n",
    "- Getitem checks for the existence of an edge between two vertices"
   ]
  },
  {
   "cell_type": "code",
   "execution_count": 4,
   "id": "61352db6",
   "metadata": {},
   "outputs": [],
   "source": [
    "class Maze:\n",
    "    def __init__(self, generator, n=100):\n",
    "        self.n = n\n",
    "        self.shape = int(n**0.5)\n",
    "\n",
    "        self.grid  = generator(n).generate_maze()\n",
    "\n",
    "    def __getitem__(self, move):\n",
    "        pre, pos = move\n",
    "\n",
    "        if 0 <= pos < self.n:\n",
    "            return pre in self.grid[pos]\n",
    "\n",
    "        return False\n",
    "\n",
    "    def won(self, x, y):\n",
    "        return x == y == self.shape-1"
   ]
  },
  {
   "cell_type": "markdown",
   "id": "a97e7f1b",
   "metadata": {},
   "source": [
    "Developing the class responsible for the game character:\n",
    "\n",
    "- Starts at position `(0, 0)`"
   ]
  },
  {
   "cell_type": "code",
   "execution_count": 5,
   "id": "837799a7",
   "metadata": {},
   "outputs": [],
   "source": [
    "class Fiancee:\n",
    "    def __init__(self):\n",
    "        self.x = 0\n",
    "        self.y = 0\n",
    "\n",
    "    def move(self, move):\n",
    "        if (move == 'u'):\n",
    "            self.y -= 1\n",
    "        elif (move == 'd'):\n",
    "            self.y += 1\n",
    "        elif (move == 'l'):\n",
    "            self.x -= 1\n",
    "        elif (move == 'r'):\n",
    "            self.x += 1\n",
    "\n",
    "    @property\n",
    "    def xy(self):\n",
    "        return self.x, self.y"
   ]
  },
  {
   "cell_type": "markdown",
   "id": "b7ef45b7",
   "metadata": {
    "jp-MarkdownHeadingCollapsed": true
   },
   "source": [
    "## ONLINE DFS AGENT"
   ]
  },
  {
   "cell_type": "markdown",
   "id": "b6b4b9dc",
   "metadata": {},
   "source": [
    "Defining constants and a dictionary that pairs movements with their corresponding reversals:\r\n",
    "\r\n",
    "\r\n"
   ]
  },
  {
   "cell_type": "code",
   "execution_count": 6,
   "id": "1c05ad2a",
   "metadata": {},
   "outputs": [],
   "source": [
    "UNSUCCESS = -1\n",
    "PERFORM = 0\n",
    "SUCCESS = 1\n",
    "\n",
    "undone = {'u' : 'd',\n",
    "          'd' : 'u',\n",
    "          'r' : 'l',\n",
    "          'l' : 'r'}"
   ]
  },
  {
   "cell_type": "markdown",
   "id": "ca3b51a9-b0fb-4037-8787-0f778b914855",
   "metadata": {},
   "source": [
    "Implementing the online dfs agent:\n",
    "\n",
    "- Step online function: the `step_online` function takes a percept s as an argument, which identifies the current state of the agent within the environment\n",
    "- Ensuring search status: within the `step_online` function, it's crucial to verify the search status to ensure that the agent's exploration or search process is correctly ongoing"
   ]
  },
  {
   "cell_type": "code",
   "execution_count": 7,
   "id": "4635dba1",
   "metadata": {},
   "outputs": [],
   "source": [
    "class OnlineDFSAgent:\n",
    "    def __init__(self):\n",
    "        self.result  = defaultdict(lambda: None)\n",
    "        self.untried = defaultdict(list)\n",
    "        self.unback  = defaultdict(list)\n",
    "\n",
    "        self.s = None\n",
    "        self.a = None\n",
    "\n",
    "        self.status = PERFORM\n",
    "\n",
    "    def step_online(self, maze, s):\n",
    "        if self.status != PERFORM:\n",
    "            return None\n",
    "        if maze.won(*s):\n",
    "            self.status = SUCCESS\n",
    "            return None\n",
    "\n",
    "        if not self.step(maze, s):\n",
    "            self.status = UNSUCCESS\n",
    "\n",
    "        return self.a\n",
    "\n",
    "    def step(self, maze, s):\n",
    "        if s not in self.untried:\n",
    "            self.untried[s] = self.actions(maze, s)\n",
    "\n",
    "        if self.s and s != self.result[self.s, self.a]:\n",
    "            self.result[self.s, self.a]    = s\n",
    "            self.result[s, undone[self.a]] = self.s\n",
    "\n",
    "            self.unback[s].append(undone[self.a])\n",
    "\n",
    "        self.s = s\n",
    "        if self.untried[s]:\n",
    "            self.a = self.untried[s].pop()\n",
    "        elif self.unback[s]:\n",
    "            self.a = self.unback[s].pop()\n",
    "        else:\n",
    "            self.a = None\n",
    "\n",
    "        return self.a\n",
    "\n",
    "    def actions(self, maze, p):\n",
    "        actions = []\n",
    "\n",
    "        pos = p[0] + maze.shape*p[1]\n",
    "\n",
    "        if self.a != 'r' and maze[pos, pos-1]:\n",
    "            actions.append('l')\n",
    "        if self.a != 'l' and maze[pos, pos+1]:\n",
    "            actions.append('r')\n",
    "        if self.a != 'd' and maze[pos, pos-maze.shape]:\n",
    "            actions.append('u')\n",
    "        if self.a != 'u' and maze[pos, pos+maze.shape]:\n",
    "            actions.append('d')\n",
    "\n",
    "        return actions\n",
    "\n",
    "    @property\n",
    "    def path(self):\n",
    "        path = [self.s]\n",
    "\n",
    "        p = path[-1]\n",
    "        while p != (0, 0):\n",
    "            p = self.result[p, self.unback[p][0]]\n",
    "            path.append(p)\n",
    "\n",
    "        return path[::-1]"
   ]
  },
  {
   "cell_type": "markdown",
   "id": "3ecb65d3",
   "metadata": {},
   "source": [
    "Testing the agent:"
   ]
  },
  {
   "cell_type": "code",
   "execution_count": 8,
   "id": "7c54838b-6d3d-44c7-a54c-df8da24b364e",
   "metadata": {},
   "outputs": [],
   "source": [
    "maze = Maze(DFSMazeGenerator)"
   ]
  },
  {
   "cell_type": "code",
   "execution_count": 9,
   "id": "0c17710d-a2f7-4217-91a0-2ac0ffe68ccc",
   "metadata": {},
   "outputs": [
    {
     "name": "stdout",
     "output_type": "stream",
     "text": [
      "X O|O O|O O O|O O O\n",
      "_             _     \n",
      "O|O O|O|O|O|O O|O|O\n",
      "  _ _   _   _       \n",
      "O O|O|O O O|O O|O|O\n",
      "      _ _ _   _ _   \n",
      "O|O|O O O O|O O O O\n",
      "      _ _   _ _ _   \n",
      "O|O O|O O O|O O|O|O\n",
      "  _ _   _ _         \n",
      "O|O O O O O O|O O|O\n",
      "  _ _ _ _ _ _   _   \n",
      "O O O|O O O|O O|O O\n",
      "  _     _   _ _   _ \n",
      "O|O O|O|O|O O O O|O\n",
      "          _ _ _ _   \n",
      "O|O|O|O|O O O O|O O\n",
      "    _   _   _   _   \n",
      "O|O O O O O|O O O O\n",
      "\n",
      "\n",
      "O O|O O|O O O|O O O\n",
      "_             _     \n",
      "O|O O|O|O|O|O O|O|O\n",
      "  _ _   _   _       \n",
      "O O|O|O O O|O O|O|O\n",
      "      _ _ _   _ _   \n",
      "O|O|O O O O|O O O O\n",
      "      _ _   _ _ _   \n",
      "O|O O|O O O|O O|O|O\n",
      "  _ _   _ _         \n",
      "O|O O O O O O|O O|O\n",
      "  _ _ _ _ _ _   _   \n",
      "O O O|O O O|O O|O O\n",
      "  _     _   _ _   _ \n",
      "O|O O|O|O|O O O O|O\n",
      "          _ _ _ _   \n",
      "O|O|O|O|O O O O|O O\n",
      "    _   _   _   _   \n",
      "O|O O O O O|O O O X\n"
     ]
    }
   ],
   "source": [
    "agent = OnlineDFSAgent()\n",
    "fianc = Fiancee()\n",
    "\n",
    "print_maze(maze.shape, maze.grid, *fianc.xy)\n",
    "\n",
    "steps = 0\n",
    "while agent.status == PERFORM:\n",
    "    act = agent.step_online(maze, fianc.xy)\n",
    "\n",
    "    if act:\n",
    "        fianc.move(act)\n",
    "        steps += 1\n",
    "\n",
    "print()\n",
    "print()\n",
    "\n",
    "print_maze(maze.shape, maze.grid, *fianc.xy)"
   ]
  },
  {
   "cell_type": "code",
   "execution_count": 10,
   "id": "b7718975",
   "metadata": {},
   "outputs": [
    {
     "name": "stdout",
     "output_type": "stream",
     "text": [
      "Size of the path = 43\n",
      "Number of steps  = 42\n",
      "Final position   = (9, 9)\n"
     ]
    }
   ],
   "source": [
    "print('Size of the path =', len(agent.path) + 1)\n",
    "print('Number of steps  =', steps)\n",
    "print('Final position   =', fianc.xy)"
   ]
  },
  {
   "cell_type": "markdown",
   "id": "f1bf4c48",
   "metadata": {
    "jp-MarkdownHeadingCollapsed": true
   },
   "source": [
    "## LRTA* AGENT"
   ]
  },
  {
   "cell_type": "markdown",
   "id": "a560c2c8",
   "metadata": {},
   "source": [
    "Implementing the LRTA* agent:"
   ]
  },
  {
   "cell_type": "code",
   "execution_count": 11,
   "id": "2cb3cfe1",
   "metadata": {},
   "outputs": [],
   "source": [
    "class LRTAStar:\n",
    "    def __init__(self):\n",
    "        self.R = defaultdict(lambda: None)\n",
    "        self.H = dict()\n",
    "        \n",
    "        self.s = None\n",
    "        self.a = None\n",
    "        \n",
    "        self.status = PERFORM\n",
    "        \n",
    "    def step_online(self, maze, s):\n",
    "        if self.status != PERFORM:\n",
    "            return None\n",
    "        if maze.won(*s):\n",
    "            self.status = SUCCESS\n",
    "            return None\n",
    "\n",
    "        return self.step(maze, s)\n",
    "\n",
    "    def step(self, maze, s):\n",
    "        shape = maze.shape - 1\n",
    "\n",
    "        if s not in self.H:\n",
    "            self.H[s] = self.dist(shape, *s)\n",
    "        if self.s:\n",
    "            self.R[self.s, self.a] = s\n",
    "            self.H[self.s] = min(self.cost(shape, self.s, self.R[self.s, act])\n",
    "                                 for act in self.actions(maze, self.s))\n",
    "\n",
    "        self.s = s\n",
    "        self.a = min([act for act in self.actions(maze, s)],\n",
    "                     key=lambda act: self.cost(shape, s, self.R[s, act]))        \n",
    "\n",
    "        return self.a\n",
    "\n",
    "    def actions(self, maze, p):\n",
    "        actions = []\n",
    "\n",
    "        place = p[0] + maze.shape*p[1]\n",
    "\n",
    "        if maze[place, place-1]:\n",
    "            actions.append('l')\n",
    "        if maze[place, place+1]:\n",
    "            actions.append('r')\n",
    "        if maze[place, place-maze.shape]:\n",
    "            actions.append('u')\n",
    "        if maze[place, place+maze.shape]:\n",
    "            actions.append('d')\n",
    "\n",
    "        return actions\n",
    "\n",
    "    def cost(self, shape, s, s_):\n",
    "        return 1 + self.H[s_] \\\n",
    "               if s_          \\\n",
    "               else self.dist(shape, *s)\n",
    "\n",
    "    @staticmethod\n",
    "    def dist(shape, x, y):\n",
    "        return (shape - x) + (shape - y)"
   ]
  },
  {
   "cell_type": "markdown",
   "id": "315a83c4",
   "metadata": {},
   "source": [
    "Testing the agent:"
   ]
  },
  {
   "cell_type": "code",
   "execution_count": 12,
   "id": "f18ea341",
   "metadata": {},
   "outputs": [
    {
     "name": "stdout",
     "output_type": "stream",
     "text": [
      "X O|O O|O O O|O O O\n",
      "_             _     \n",
      "O|O O|O|O|O|O O|O|O\n",
      "  _ _   _   _       \n",
      "O O|O|O O O|O O|O|O\n",
      "      _ _ _   _ _   \n",
      "O|O|O O O O|O O O O\n",
      "      _ _   _ _ _   \n",
      "O|O O|O O O|O O|O|O\n",
      "  _ _   _ _         \n",
      "O|O O O O O O|O O|O\n",
      "  _ _ _ _ _ _   _   \n",
      "O O O|O O O|O O|O O\n",
      "  _     _   _ _   _ \n",
      "O|O O|O|O|O O O O|O\n",
      "          _ _ _ _   \n",
      "O|O|O|O|O O O O|O O\n",
      "    _   _   _   _   \n",
      "O|O O O O O|O O O O\n",
      "\n",
      "\n",
      "O O|O O|O O O|O O O\n",
      "_             _     \n",
      "O|O O|O|O|O|O O|O|O\n",
      "  _ _   _   _       \n",
      "O O|O|O O O|O O|O|O\n",
      "      _ _ _   _ _   \n",
      "O|O|O O O O|O O O O\n",
      "      _ _   _ _ _   \n",
      "O|O O|O O O|O O|O|O\n",
      "  _ _   _ _         \n",
      "O|O O O O O O|O O|O\n",
      "  _ _ _ _ _ _   _   \n",
      "O O O|O O O|O O|O O\n",
      "  _     _   _ _   _ \n",
      "O|O O|O|O|O O O O|O\n",
      "          _ _ _ _   \n",
      "O|O|O|O|O O O O|O O\n",
      "    _   _   _   _   \n",
      "O|O O O O O|O O O X\n"
     ]
    }
   ],
   "source": [
    "agent = LRTAStar()\n",
    "fianc = Fiancee()\n",
    "\n",
    "print_maze(maze.shape, maze.grid, *fianc.xy)\n",
    "\n",
    "steps = 0\n",
    "while agent.status == PERFORM:\n",
    "    act = agent.step_online(maze, fianc.xy)\n",
    "\n",
    "    if act:\n",
    "        fianc.move(act)\n",
    "        steps += 1\n",
    "\n",
    "print()\n",
    "print()\n",
    "\n",
    "print_maze(maze.shape, maze.grid, *fianc.xy)"
   ]
  },
  {
   "cell_type": "code",
   "execution_count": 13,
   "id": "19439d32-689d-4612-8492-14e8080f4786",
   "metadata": {},
   "outputs": [
    {
     "name": "stdout",
     "output_type": "stream",
     "text": [
      "Number of steps  = 236\n",
      "Final position   = (9, 9)\n"
     ]
    }
   ],
   "source": [
    "print('Number of steps  =', steps)\n",
    "print('Final position   =', fianc.xy)"
   ]
  },
  {
   "cell_type": "markdown",
   "id": "e81bc127-44eb-4444-b4b8-75eb9819a987",
   "metadata": {},
   "source": [
    "## TESTS"
   ]
  },
  {
   "cell_type": "markdown",
   "id": "26cac752-8053-4099-9b09-0c6a9cd36493",
   "metadata": {},
   "source": [
    "Comparison between the average number of steps used by each search method for each type of maze instance generator:\n",
    "\n",
    "- Declaring a function to perform the search on each instance and obtain the average number of steps\n",
    "- Creating 100 random instances for each distinct maze generator"
   ]
  },
  {
   "cell_type": "code",
   "execution_count": 14,
   "id": "68bfbf85-7864-4142-bc1b-b86c01bb1afd",
   "metadata": {},
   "outputs": [],
   "source": [
    "def benchmark(mazes, size):\n",
    "    steps_odfs = 0\n",
    "    steps_lrta = 0\n",
    "\n",
    "    for maze in mazes:\n",
    "        agent_odfs = OnlineDFSAgent()\n",
    "        agent_lrta = LRTAStar()\n",
    "        fianc_odfs = Fiancee()\n",
    "        fianc_lrta = Fiancee()\n",
    "\n",
    "        while agent_odfs.status == PERFORM:\n",
    "            act = agent_odfs.step_online(maze, fianc_odfs.xy)\n",
    "\n",
    "            if act:\n",
    "                fianc_odfs.move(act)\n",
    "                steps_odfs += 1\n",
    "\n",
    "        while agent_lrta.status == PERFORM:\n",
    "            act = agent_lrta.step_online(maze, fianc_lrta.xy)\n",
    "\n",
    "            if act:\n",
    "                fianc_lrta.move(act)\n",
    "                steps_lrta += 1\n",
    "\n",
    "    return steps_odfs / size, steps_lrta / size"
   ]
  },
  {
   "cell_type": "code",
   "execution_count": 15,
   "id": "c464dcb9-db6b-410a-8675-cae2768a9815",
   "metadata": {},
   "outputs": [
    {
     "data": {
      "text/html": [
       "<div>\n",
       "<style scoped>\n",
       "    .dataframe tbody tr th:only-of-type {\n",
       "        vertical-align: middle;\n",
       "    }\n",
       "\n",
       "    .dataframe tbody tr th {\n",
       "        vertical-align: top;\n",
       "    }\n",
       "\n",
       "    .dataframe thead th {\n",
       "        text-align: right;\n",
       "    }\n",
       "</style>\n",
       "<table border=\"1\" class=\"dataframe\">\n",
       "  <thead>\n",
       "    <tr style=\"text-align: right;\">\n",
       "      <th></th>\n",
       "      <th>agent</th>\n",
       "      <th>generator</th>\n",
       "      <th>steps</th>\n",
       "    </tr>\n",
       "  </thead>\n",
       "  <tbody>\n",
       "    <tr>\n",
       "      <th>0</th>\n",
       "      <td>DFSSearch</td>\n",
       "      <td>DFS</td>\n",
       "      <td>46.96</td>\n",
       "    </tr>\n",
       "    <tr>\n",
       "      <th>1</th>\n",
       "      <td>DFSSearch</td>\n",
       "      <td>Prim</td>\n",
       "      <td>89.20</td>\n",
       "    </tr>\n",
       "    <tr>\n",
       "      <th>2</th>\n",
       "      <td>DFSSearch</td>\n",
       "      <td>Kruskal</td>\n",
       "      <td>77.50</td>\n",
       "    </tr>\n",
       "    <tr>\n",
       "      <th>3</th>\n",
       "      <td>LRTAStar</td>\n",
       "      <td>DFS</td>\n",
       "      <td>260.62</td>\n",
       "    </tr>\n",
       "    <tr>\n",
       "      <th>4</th>\n",
       "      <td>LRTAStar</td>\n",
       "      <td>Prim</td>\n",
       "      <td>194.38</td>\n",
       "    </tr>\n",
       "    <tr>\n",
       "      <th>5</th>\n",
       "      <td>LRTAStar</td>\n",
       "      <td>Kruskal</td>\n",
       "      <td>194.46</td>\n",
       "    </tr>\n",
       "  </tbody>\n",
       "</table>\n",
       "</div>"
      ],
      "text/plain": [
       "       agent generator   steps\n",
       "0  DFSSearch       DFS   46.96\n",
       "1  DFSSearch      Prim   89.20\n",
       "2  DFSSearch   Kruskal   77.50\n",
       "3   LRTAStar       DFS  260.62\n",
       "4   LRTAStar      Prim  194.38\n",
       "5   LRTAStar   Kruskal  194.46"
      ]
     },
     "execution_count": 15,
     "metadata": {},
     "output_type": "execute_result"
    }
   ],
   "source": [
    "N = 100\n",
    "\n",
    "mazes_dfs     = [Maze(DFSMazeGenerator)     for _ in range(N)]\n",
    "mazes_prim    = [Maze(PrimMazeGenerator)    for _ in range(N)]\n",
    "mazes_kruskal = [Maze(KruskalMazeGenerator) for _ in range(N)]\n",
    "\n",
    "steps_odfs_dfs    , steps_lrta_dfs     = benchmark(mazes_dfs, len(mazes_dfs))\n",
    "steps_odfs_prim   , steps_lrta_prim    = benchmark(mazes_prim, len(mazes_prim))\n",
    "steps_odfs_kruskal, steps_lrta_kruskal = benchmark(mazes_kruskal, len(mazes_kruskal))\n",
    "\n",
    "agent     = ['DFSSearch', 'DFSSearch', 'DFSSearch',\n",
    "             'LRTAStar', 'LRTAStar', 'LRTAStar']\n",
    "generator = ['DFS', 'Prim', 'Kruskal', 'DFS', 'Prim', 'Kruskal']\n",
    "steps     = [steps_odfs_dfs, steps_odfs_prim, steps_odfs_kruskal,\n",
    "             steps_lrta_dfs, steps_lrta_prim, steps_lrta_kruskal]\n",
    "\n",
    "data = pd.DataFrame({'agent'     : agent,\n",
    "                     'generator' : generator,\n",
    "                     'steps'     : steps})\n",
    "data"
   ]
  },
  {
   "cell_type": "code",
   "execution_count": 16,
   "id": "7f1b64ab-11c8-4014-8886-2a4fe72c15d7",
   "metadata": {},
   "outputs": [
    {
     "data": {
      "image/png": "[encoded data removed]",
      "text/plain": [
       "<Figure size 640x480 with 1 Axes>"
      ]
     },
     "metadata": {},
     "output_type": "display_data"
    }
   ],
   "source": [
    "sns.barplot(data, x='agent', y='steps', hue='generator')\n",
    "\n",
    "plt.xlabel('Agent')\n",
    "plt.ylabel('Average Steps')\n",
    "plt.title('Comparison of Search Methods')\n",
    "\n",
    "plt.show()"
   ]
  },
  {
   "cell_type": "markdown",
   "id": "a865a417-2e9c-42d0-b574-64c74f362403",
   "metadata": {},
   "source": [
    "Comparison of method efficiency on a random instance created with `DFSGenerator`:\n"
   ]
  },
  {
   "cell_type": "code",
   "execution_count": 17,
   "id": "b6ad722b-e3af-41f8-b717-cd30b98117df",
   "metadata": {},
   "outputs": [],
   "source": [
    "maze = mazes_dfs[0]"
   ]
  },
  {
   "cell_type": "code",
   "execution_count": 18,
   "id": "c69917b6-e170-42bf-90f2-32e18bdd3de1",
   "metadata": {},
   "outputs": [
    {
     "name": "stdout",
     "output_type": "stream",
     "text": [
      "234 µs ± 8.72 µs per loop (mean ± std. dev. of 7 runs, 1,000 loops each)\n"
     ]
    }
   ],
   "source": [
    "%%timeit\n",
    "\n",
    "agent = OnlineDFSAgent()\n",
    "fianc = Fiancee()\n",
    "\n",
    "while agent.status == PERFORM:\n",
    "    act = agent.step_online(maze, fianc.xy)\n",
    "\n",
    "    if act:\n",
    "        fianc.move(act)"
   ]
  },
  {
   "cell_type": "code",
   "execution_count": 19,
   "id": "9e256a67-d3b1-44d2-a9dc-a1be37617986",
   "metadata": {},
   "outputs": [
    {
     "name": "stdout",
     "output_type": "stream",
     "text": [
      "2.26 ms ± 58.8 µs per loop (mean ± std. dev. of 7 runs, 100 loops each)\n"
     ]
    }
   ],
   "source": [
    "%%timeit\n",
    "\n",
    "agent = LRTAStar()\n",
    "fianc = Fiancee()\n",
    "\n",
    "while agent.status == PERFORM:\n",
    "    act = agent.step_online(maze, fianc.xy)\n",
    "\n",
    "    if act:\n",
    "        fianc.move(act)"
   ]
  },
  {
   "cell_type": "markdown",
   "id": "54cf4d02-a7a3-4344-97ec-faf39d2ad39c",
   "metadata": {},
   "source": [
    "Comparison of method efficiency on a random instance created with `PrimGenerator`:"
   ]
  },
  {
   "cell_type": "code",
   "execution_count": 20,
   "id": "43bd0510-9eb5-41e3-a162-0c78102ff3e4",
   "metadata": {},
   "outputs": [],
   "source": [
    "maze = mazes_prim[0]"
   ]
  },
  {
   "cell_type": "code",
   "execution_count": 21,
   "id": "14fe02f6-35ac-4415-9a23-1f40bbb7b277",
   "metadata": {},
   "outputs": [
    {
     "name": "stdout",
     "output_type": "stream",
     "text": [
      "537 µs ± 5.5 µs per loop (mean ± std. dev. of 7 runs, 1,000 loops each)\n"
     ]
    }
   ],
   "source": [
    "%%timeit\n",
    "\n",
    "agent = OnlineDFSAgent()\n",
    "fianc = Fiancee()\n",
    "\n",
    "while agent.status == PERFORM:\n",
    "    act = agent.step_online(maze, fianc.xy)\n",
    "\n",
    "    if act:\n",
    "        fianc.move(act)"
   ]
  },
  {
   "cell_type": "code",
   "execution_count": 22,
   "id": "a563a21b-78ba-4d4d-b753-1c023ac57900",
   "metadata": {},
   "outputs": [
    {
     "name": "stdout",
     "output_type": "stream",
     "text": [
      "2.95 ms ± 121 µs per loop (mean ± std. dev. of 7 runs, 100 loops each)\n"
     ]
    }
   ],
   "source": [
    "%%timeit\n",
    "\n",
    "agent = LRTAStar()\n",
    "fianc = Fiancee()\n",
    "\n",
    "while agent.status == PERFORM:\n",
    "    act = agent.step_online(maze, fianc.xy)\n",
    "\n",
    "    if act:\n",
    "        fianc.move(act)"
   ]
  },
  {
   "cell_type": "markdown",
   "id": "2b391bea-f33a-4706-af6d-176f0e7e28c5",
   "metadata": {},
   "source": [
    "Comparison of method efficiency on a random instance created with `KruskalGenerator`:"
   ]
  },
  {
   "cell_type": "code",
   "execution_count": 23,
   "id": "e68a7b9b-61be-4c77-85c9-42ad6c495a6c",
   "metadata": {},
   "outputs": [],
   "source": [
    "maze = mazes_kruskal[0]"
   ]
  },
  {
   "cell_type": "code",
   "execution_count": 24,
   "id": "38139431-7798-482c-ab0d-bc36c1996489",
   "metadata": {},
   "outputs": [
    {
     "name": "stdout",
     "output_type": "stream",
     "text": [
      "376 µs ± 19.7 µs per loop (mean ± std. dev. of 7 runs, 1,000 loops each)\n"
     ]
    }
   ],
   "source": [
    "%%timeit\n",
    "\n",
    "agent = OnlineDFSAgent()\n",
    "fianc = Fiancee()\n",
    "\n",
    "while agent.status == PERFORM:\n",
    "    act = agent.step_online(maze, fianc.xy)\n",
    "\n",
    "    if act:\n",
    "        fianc.move(act)"
   ]
  },
  {
   "cell_type": "code",
   "execution_count": 25,
   "id": "f046bf71-7675-49ad-99c5-89a8c44eb72e",
   "metadata": {},
   "outputs": [
    {
     "name": "stdout",
     "output_type": "stream",
     "text": [
      "6.78 ms ± 97.9 µs per loop (mean ± std. dev. of 7 runs, 100 loops each)\n"
     ]
    }
   ],
   "source": [
    "%%timeit\n",
    "\n",
    "agent = LRTAStar()\n",
    "fianc = Fiancee()\n",
    "\n",
    "while agent.status == PERFORM:\n",
    "    act = agent.step_online(maze, fianc.xy)\n",
    "\n",
    "    if act:\n",
    "        fianc.move(act)"
   ]
  }
 ],
 "metadata": {
  "kernelspec": {
   "display_name": "Python 3 (ipykernel)",
   "language": "python",
   "name": "python3"
  },
  "language_info": {
   "codemirror_mode": {
    "name": "ipython",
    "version": 3
   },
   "file_extension": ".py",
   "mimetype": "text/x-python",
   "name": "python",
   "nbconvert_exporter": "python",
   "pygments_lexer": "ipython3",
   "version": "3.11.4"
  }
 },
 "nbformat": 4,
 "nbformat_minor": 5
}
