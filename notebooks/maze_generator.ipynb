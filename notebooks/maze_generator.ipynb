{
 "cells": [
  {
   "cell_type": "markdown",
   "id": "0237d668",
   "metadata": {},
   "source": [
    "# DEVELOPING THE MAZE GENERATOR"
   ]
  },
  {
   "cell_type": "markdown",
   "id": "c9574bca-d398-403a-b367-861510709b13",
   "metadata": {},
   "source": [
    "## PREPARING THE DEVELOPMENT ENVIRONMENT"
   ]
  },
  {
   "cell_type": "markdown",
   "id": "e0a7201b",
   "metadata": {},
   "source": [
    "Importing the libraries:"
   ]
  },
  {
   "cell_type": "code",
   "execution_count": 1,
   "id": "967c2be2",
   "metadata": {},
   "outputs": [],
   "source": [
    "from numpy.random import shuffle"
   ]
  },
  {
   "cell_type": "markdown",
   "id": "6e39c23a",
   "metadata": {},
   "source": [
    "Defining the auxiliary class with the disjoint set data structure:\n",
    "\n",
    "- **n** is the number of supernodes\n",
    "- **v** represents the parents (initially each disjoint set has a single vertex)\n",
    "\n",
    "> **Note**: The compression technique used in the find method of disjoint set data structures is aimed at optimizing the process of finding the root or representative element of a set. In this technique, called path compression, as the method traverses the tree-like structure of the disjoint sets to find the root element, it also updates the parent pointers along the path to directly point to the root. This means that subsequent calls to find for the same element will take shorter paths, improving the efficiency of the operation."
   ]
  },
  {
   "cell_type": "code",
   "execution_count": 2,
   "id": "79e04eb8",
   "metadata": {},
   "outputs": [],
   "source": [
    "class UnionFind:\n",
    "    def __init__(self, n):\n",
    "        self.n = n\n",
    "        self.v = list(range(n))\n",
    "\n",
    "    def find(self, u):\n",
    "        while u != self.v[u]:\n",
    "            self.v[u] = self.v[self.v[u]]\n",
    "            u = self.v[u]\n",
    "\n",
    "        return u\n",
    "\n",
    "    def union(self, u, v):\n",
    "        root_u, root_v = self.find(u), self.find(v)\n",
    "\n",
    "        if root_u == root_v:\n",
    "            return False\n",
    "        else:\n",
    "            self.v[root_v] = root_u\n",
    "            self.n -= 1\n",
    "\n",
    "            return True"
   ]
  },
  {
   "cell_type": "markdown",
   "id": "ed3dd0cc-1a63-41fb-9b96-39de34cd159f",
   "metadata": {},
   "source": [
    "Creating an auxiliary function to print the maze:"
   ]
  },
  {
   "cell_type": "code",
   "execution_count": 3,
   "id": "b89fbd39-8190-4088-9a1d-6ebafd4a2c06",
   "metadata": {},
   "outputs": [],
   "source": [
    "def is_conn(graph, v, w):\n",
    "    return v in graph[w]\n",
    "\n",
    "def get_row(maze, r, c, n):\n",
    "    v = n * r + c\n",
    "\n",
    "    return ' ' if is_conn(maze, v, v+1) else '|'\n",
    "\n",
    "def get_col(maze, r, c, n):\n",
    "    v = n * r + c\n",
    "\n",
    "    return '  ' if is_conn(maze, v, v+n) else '_ '\n",
    "\n",
    "def print_maze(n, maze):\n",
    "    for r in range(n):\n",
    "        for c in range(n-1):\n",
    "            print('0', end=get_row(maze, r, c, n))\n",
    "\n",
    "        print('0')\n",
    "\n",
    "        if r != n-1:\n",
    "            for c in range(n):\n",
    "                print(end=get_col(maze, r, c, n))\n",
    "\n",
    "            print()"
   ]
  },
  {
   "cell_type": "markdown",
   "id": "1809cbcb-84d8-4ab5-af42-ba4c045f92ff",
   "metadata": {},
   "source": [
    "## GENERATOR"
   ]
  },
  {
   "cell_type": "markdown",
   "id": "35bbc0db-e98b-4fb7-9a14-43a744724c80",
   "metadata": {},
   "source": [
    "Defining the class that implements a maze generator inspired by a randomized kruskal algorithm. The maze is represented using an adjacency list, as the resulting graph is expected to be sparse."
   ]
  },
  {
   "cell_type": "code",
   "execution_count": 4,
   "id": "466c06c0",
   "metadata": {},
   "outputs": [],
   "source": [
    "class MazeGenerator:\n",
    "    def __init__(self, n=100):\n",
    "        self.n = n\n",
    "        self.shape = int(n**0.5)\n",
    "\n",
    "        self.edges = self.generate_edges()\n",
    "\n",
    "    def moves(self, v):\n",
    "        moves = []\n",
    "\n",
    "        if (v + 1) % self.shape:\n",
    "            moves.append((v, v + 1))\n",
    "        if v + self.shape < self.n:\n",
    "            moves.append((v, v + self.shape))\n",
    "\n",
    "        return moves\n",
    "\n",
    "    def generate_edges(self):\n",
    "        return [edge\n",
    "                for v in range(self.n)\n",
    "                for edge in self.moves(v)]\n",
    "\n",
    "    def generate_maze(self):\n",
    "        forest = UnionFind(self.n)\n",
    "        maze   = [[] for _ in range(self.n)]\n",
    "\n",
    "        shuffle(self.edges)\n",
    "\n",
    "        for v, w in self.edges:\n",
    "            if forest.union(v, w):\n",
    "                maze[v].append(w)\n",
    "                maze[w].append(v)\n",
    "\n",
    "                if forest.n == 1:\n",
    "                    return maze"
   ]
  },
  {
   "cell_type": "markdown",
   "id": "009b31f8",
   "metadata": {},
   "source": [
    "Checking the possible valid edges:"
   ]
  },
  {
   "cell_type": "code",
   "execution_count": 5,
   "id": "15d9ae52",
   "metadata": {},
   "outputs": [
    {
     "name": "stdout",
     "output_type": "stream",
     "text": [
      "0 0 0 0 0 0 0 0 0 0\n",
      "                    \n",
      "0 0 0 0 0 0 0 0 0 0\n",
      "                    \n",
      "0 0 0 0 0 0 0 0 0 0\n",
      "                    \n",
      "0 0 0 0 0 0 0 0 0 0\n",
      "                    \n",
      "0 0 0 0 0 0 0 0 0 0\n",
      "                    \n",
      "0 0 0 0 0 0 0 0 0 0\n",
      "                    \n",
      "0 0 0 0 0 0 0 0 0 0\n",
      "                    \n",
      "0 0 0 0 0 0 0 0 0 0\n",
      "                    \n",
      "0 0 0 0 0 0 0 0 0 0\n",
      "                    \n",
      "0 0 0 0 0 0 0 0 0 0\n"
     ]
    }
   ],
   "source": [
    "generator = MazeGenerator()\n",
    "\n",
    "edges = [[] for _ in range(generator.n)]\n",
    "for v, w in generator.edges:\n",
    "    edges[v].append(w)\n",
    "    edges[w].append(v)\n",
    "\n",
    "print_maze(generator.shape, edges)"
   ]
  },
  {
   "cell_type": "markdown",
   "id": "91356ed4",
   "metadata": {},
   "source": [
    "Testing the generator and printing the results:"
   ]
  },
  {
   "cell_type": "code",
   "execution_count": 6,
   "id": "cbeda35f-e145-470d-8729-c0f0ad4405a1",
   "metadata": {},
   "outputs": [
    {
     "name": "stdout",
     "output_type": "stream",
     "text": [
      "0|0 0|0|0 0 0|0 0 0\n",
      "  _       _ _   _ _ \n",
      "0 0|0 0 0 0 0|0 0 0\n",
      "    _ _     _     _ \n",
      "0|0 0 0 0|0|0 0|0 0\n",
      "_ _ _   _ _   _   _ \n",
      "0 0 0|0|0|0 0|0|0 0\n",
      "    _       _     _ \n",
      "0|0|0 0 0 0|0 0 0|0\n",
      "_     _     _   _   \n",
      "0 0 0|0|0|0|0 0 0 0\n",
      "_   _   _       _   \n",
      "0 0 0|0 0 0|0|0|0 0\n",
      "_ _ _ _   _ _     _ \n",
      "0 0|0 0|0 0 0|0|0|0\n",
      "      _   _         \n",
      "0|0 0|0|0 0|0|0|0|0\n",
      "_ _       _   _     \n",
      "0 0 0 0 0|0 0|0 0 0\n"
     ]
    }
   ],
   "source": [
    "maze = generator.generate_maze()\n",
    "\n",
    "print_maze(generator.shape, maze)"
   ]
  },
  {
   "cell_type": "markdown",
   "id": "fd53d4f3-a2f8-4b61-970c-78713a9d0527",
   "metadata": {},
   "source": [
    "Checking the efficiency of the maze generator:"
   ]
  },
  {
   "cell_type": "code",
   "execution_count": 7,
   "id": "0b295b3f-91ca-4a20-b34a-bb8ff13305ed",
   "metadata": {},
   "outputs": [
    {
     "name": "stdout",
     "output_type": "stream",
     "text": [
      "55.8 µs ± 3.18 µs per loop (mean ± std. dev. of 7 runs, 10,000 loops each)\n"
     ]
    }
   ],
   "source": [
    "%%timeit\n",
    "\n",
    "_ = generator.generate_maze()"
   ]
  }
 ],
 "metadata": {
  "kernelspec": {
   "display_name": "Python 3 (ipykernel)",
   "language": "python",
   "name": "python3"
  },
  "language_info": {
   "codemirror_mode": {
    "name": "ipython",
    "version": 3
   },
   "file_extension": ".py",
   "mimetype": "text/x-python",
   "name": "python",
   "nbconvert_exporter": "python",
   "pygments_lexer": "ipython3",
   "version": "3.11.4"
  }
 },
 "nbformat": 4,
 "nbformat_minor": 5
}
