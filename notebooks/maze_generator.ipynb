{
 "cells": [
  {
   "cell_type": "markdown",
   "id": "0237d668",
   "metadata": {},
   "source": [
    "# DEVELOPING THE MAZE GENERATOR"
   ]
  },
  {
   "cell_type": "markdown",
   "id": "c9574bca-d398-403a-b367-861510709b13",
   "metadata": {
    "jp-MarkdownHeadingCollapsed": true
   },
   "source": [
    "## PREPARING THE DEVELOPMENT ENVIRONMENT"
   ]
  },
  {
   "cell_type": "markdown",
   "id": "e0a7201b",
   "metadata": {},
   "source": [
    "Importing the libraries:"
   ]
  },
  {
   "cell_type": "code",
   "execution_count": 1,
   "id": "967c2be2",
   "metadata": {},
   "outputs": [],
   "source": [
    "from collections import deque\n",
    "from numpy.random import shuffle, \\\n",
    "                         randint"
   ]
  },
  {
   "cell_type": "markdown",
   "id": "6e39c23a",
   "metadata": {},
   "source": [
    "Defining the auxiliary class with the disjoint set data structure:\n",
    "\n",
    "- **n** is the number of supernodes\n",
    "- **v** represents the parents (initially each disjoint set has a single vertex)\n",
    "\n",
    "> **Note**: The compression technique used in the find method of disjoint set data structures is aimed at optimizing the process of finding the root or representative element of a set. In this technique, called path compression, as the method traverses the tree-like structure of the disjoint sets to find the root element, it also updates the parent pointers along the path to directly point to the root. This means that subsequent calls to find for the same element will take shorter paths, improving the efficiency of the operation."
   ]
  },
  {
   "cell_type": "code",
   "execution_count": 2,
   "id": "79e04eb8",
   "metadata": {},
   "outputs": [],
   "source": [
    "class UnionFind:\n",
    "    def __init__(self, n):\n",
    "        self.n = n\n",
    "        self.v = list(range(n))\n",
    "\n",
    "    def find(self, u):\n",
    "        while u != self.v[u]:\n",
    "            self.v[u] = self.v[self.v[u]]\n",
    "            u = self.v[u]\n",
    "\n",
    "        return u\n",
    "\n",
    "    def union(self, u, v):\n",
    "        root_u, root_v = self.find(u), self.find(v)\n",
    "\n",
    "        if root_u == root_v:\n",
    "            return False\n",
    "        else:\n",
    "            self.v[root_v] = root_u\n",
    "            self.n -= 1\n",
    "\n",
    "            return True"
   ]
  },
  {
   "cell_type": "markdown",
   "id": "ed3dd0cc-1a63-41fb-9b96-39de34cd159f",
   "metadata": {},
   "source": [
    "Creating an auxiliary function to print the maze:"
   ]
  },
  {
   "cell_type": "code",
   "execution_count": 3,
   "id": "b89fbd39-8190-4088-9a1d-6ebafd4a2c06",
   "metadata": {},
   "outputs": [],
   "source": [
    "def is_conn(graph, v, w):\n",
    "    return v in graph[w]\n",
    "\n",
    "def get_row(maze, r, c, n):\n",
    "    v = n * r + c\n",
    "\n",
    "    return ' ' if is_conn(maze, v, v+1) else '|'\n",
    "\n",
    "def get_col(maze, r, c, n):\n",
    "    v = n * r + c\n",
    "\n",
    "    return '  ' if is_conn(maze, v, v+n) else '_ '\n",
    "\n",
    "def print_maze(n, maze):\n",
    "    for r in range(n):\n",
    "        for c in range(n-1):\n",
    "            print('0', end=get_row(maze, r, c, n))\n",
    "\n",
    "        print('0')\n",
    "\n",
    "        if r != n-1:\n",
    "            for c in range(n):\n",
    "                print(end=get_col(maze, r, c, n))\n",
    "\n",
    "            print()"
   ]
  },
  {
   "cell_type": "markdown",
   "id": "1809cbcb-84d8-4ab5-af42-ba4c045f92ff",
   "metadata": {
    "jp-MarkdownHeadingCollapsed": true
   },
   "source": [
    "## DFS GENERATOR"
   ]
  },
  {
   "cell_type": "markdown",
   "id": "ce5f25c1-86ab-41e2-acc8-f782068441ca",
   "metadata": {},
   "source": [
    "The randomized depth-first search algorithm is utilized to generate mazes by exploring the grid space randomly, prioritizing unvisited cells at each step:\n",
    "\n",
    "- Its recursive nature allows efficient backtracking when no unvisited cells are available, ensuring thorough exploration\n",
    "- By introducing randomness into the direction selection process, the algorithm generates unique and intricate mazes"
   ]
  },
  {
   "cell_type": "code",
   "execution_count": 4,
   "id": "e5f6bf28-4c78-43b5-833a-6102cfae4486",
   "metadata": {},
   "outputs": [],
   "source": [
    "class DFSMazeGenerator:\n",
    "    def __init__(self, n=100):\n",
    "        self.n = n\n",
    "        self.shape = int(n**0.5)\n",
    "\n",
    "        self.edges = self.generate_edges()\n",
    "\n",
    "    def moves(self, v):\n",
    "        moves = []\n",
    "\n",
    "        if v % self.shape:\n",
    "            moves.append(v - 1)\n",
    "        if (v + 1) % self.shape:\n",
    "            moves.append(v + 1)\n",
    "        if v >= self.shape:\n",
    "            moves.append(v - self.shape)\n",
    "        if v < self.n - self.shape:\n",
    "            moves.append(v + self.shape)\n",
    "\n",
    "        return moves\n",
    "\n",
    "    def generate_edges(self):\n",
    "        return [self.moves(v)\n",
    "                for v in range(self.n)]\n",
    "\n",
    "    def shuffle_edges(self):\n",
    "        edges = self.generate_edges()\n",
    "        for adj in edges:\n",
    "            shuffle(adj)\n",
    "\n",
    "        return edges\n",
    "\n",
    "    def generate_maze(self):\n",
    "        maze = [[] for _ in range(self.n)]\n",
    "\n",
    "        stack  = deque([])\n",
    "        explored = set([])\n",
    "        frontier = self.shuffle_edges()\n",
    "\n",
    "        v = 0\n",
    "        explored.add(v)\n",
    "        while True:\n",
    "            while not frontier[v]:\n",
    "                if not stack:\n",
    "                    return maze\n",
    "\n",
    "                v = stack.pop()\n",
    "\n",
    "            w = frontier[v].pop()\n",
    "\n",
    "            if w not in explored:\n",
    "                maze[v].append(w)\n",
    "                maze[w].append(v)\n",
    "\n",
    "                stack.append(v)\n",
    "                explored.add(w)\n",
    "                v = w"
   ]
  },
  {
   "cell_type": "markdown",
   "id": "8703be11-cc89-431a-9b6d-4881334de74a",
   "metadata": {},
   "source": [
    "Checking the possible valid edges:"
   ]
  },
  {
   "cell_type": "code",
   "execution_count": 5,
   "id": "be41139c-de38-4c6f-a5eb-cdd266e48fd7",
   "metadata": {},
   "outputs": [
    {
     "name": "stdout",
     "output_type": "stream",
     "text": [
      "0 0 0 0 0 0 0 0 0 0\n",
      "                    \n",
      "0 0 0 0 0 0 0 0 0 0\n",
      "                    \n",
      "0 0 0 0 0 0 0 0 0 0\n",
      "                    \n",
      "0 0 0 0 0 0 0 0 0 0\n",
      "                    \n",
      "0 0 0 0 0 0 0 0 0 0\n",
      "                    \n",
      "0 0 0 0 0 0 0 0 0 0\n",
      "                    \n",
      "0 0 0 0 0 0 0 0 0 0\n",
      "                    \n",
      "0 0 0 0 0 0 0 0 0 0\n",
      "                    \n",
      "0 0 0 0 0 0 0 0 0 0\n",
      "                    \n",
      "0 0 0 0 0 0 0 0 0 0\n"
     ]
    }
   ],
   "source": [
    "generator = DFSMazeGenerator()\n",
    "\n",
    "print_maze(generator.shape, generator.edges)"
   ]
  },
  {
   "cell_type": "markdown",
   "id": "854f004c-f31d-407c-9824-054718d58ce2",
   "metadata": {},
   "source": [
    "Testing the generator and printing the results:"
   ]
  },
  {
   "cell_type": "code",
   "execution_count": 6,
   "id": "af19cf95-e204-4306-b190-d48c7a4d4890",
   "metadata": {},
   "outputs": [
    {
     "name": "stdout",
     "output_type": "stream",
     "text": [
      "0 0|0 0 0 0|0 0 0 0\n",
      "_     _ _   _   _   \n",
      "0|0 0|0 0|0|0 0|0|0\n",
      "  _ _         _     \n",
      "0 0 0 0|0|0 0|0|0 0\n",
      "  _ _ _ _ _ _     _ \n",
      "0|0 0 0 0 0 0|0 0|0\n",
      "    _ _   _     _   \n",
      "0 0|0 0 0|0 0|0 0|0\n",
      "  _   _ _   _ _     \n",
      "0|0|0 0 0|0 0 0|0|0\n",
      "    _ _   _ _ _     \n",
      "0 0|0 0|0 0 0 0 0|0\n",
      "_     _ _ _ _ _ _   \n",
      "0 0|0 0 0 0 0|0 0 0\n",
      "  _ _ _   _     _   \n",
      "0|0 0 0|0 0|0|0 0|0\n",
      "    _   _     _ _   \n",
      "0 0|0 0 0 0|0 0 0 0\n"
     ]
    }
   ],
   "source": [
    "maze = generator.generate_maze()\n",
    "\n",
    "print_maze(generator.shape, maze)"
   ]
  },
  {
   "cell_type": "markdown",
   "id": "e26c3e50-9ec8-4a6e-b2b0-ac3ef1374ca5",
   "metadata": {},
   "source": [
    "Checking the efficiency of the maze generator:"
   ]
  },
  {
   "cell_type": "code",
   "execution_count": 7,
   "id": "017e2e8b-78c5-4a63-abb5-f612cb092398",
   "metadata": {},
   "outputs": [
    {
     "name": "stdout",
     "output_type": "stream",
     "text": [
      "368 µs ± 102 µs per loop (mean ± std. dev. of 7 runs, 10,000 loops each)\n"
     ]
    }
   ],
   "source": [
    "%%timeit\n",
    "\n",
    "_ = generator.generate_maze()"
   ]
  },
  {
   "cell_type": "markdown",
   "id": "9452705d-a6e3-4352-b49d-8711f0e25178",
   "metadata": {},
   "source": [
    "## PRIM GENERATOR"
   ]
  },
  {
   "cell_type": "markdown",
   "id": "aa916fdb-ad39-4387-a9ab-76415f0dde07",
   "metadata": {},
   "source": [
    "The prim's algorithm is often utilized in creating mazes due to its efficiency and simplicity:\n",
    "\n",
    "- Initially, it selects point 0 within the maze space as the starting point\n",
    "- Then, it incrementally expands the maze by adding paths, randomly selecting available edges from the set of unexplored cells\n",
    "- This process continues until all cells are connected, forming a complete maze without cycles\n",
    "\n",
    "> **Note**: Ultimately, the resulting maze possesses a unique and balanced structure, ideal for applications in games, simulations, or route optimization problems."
   ]
  },
  {
   "cell_type": "code",
   "execution_count": 8,
   "id": "0d0136b8-eea1-478a-8f59-4d9d787be712",
   "metadata": {},
   "outputs": [],
   "source": [
    "class PrimMazeGenerator:\n",
    "    def __init__(self, n=100):\n",
    "        self.n = n\n",
    "        self.shape = int(n**0.5)\n",
    "\n",
    "        self.edges = self.generate_edges()\n",
    "\n",
    "    def moves(self, v):\n",
    "        moves = []\n",
    "\n",
    "        if v % self.shape:\n",
    "            moves.append(v - 1)\n",
    "        if (v + 1) % self.shape:\n",
    "            moves.append(v + 1)\n",
    "        if v >= self.shape:\n",
    "            moves.append(v - self.shape)\n",
    "        if v < self.n - self.shape:\n",
    "            moves.append(v + self.shape)\n",
    "\n",
    "        return moves\n",
    "\n",
    "    def generate_edges(self):\n",
    "        return [self.moves(v)\n",
    "                for v in range(self.n)]\n",
    "\n",
    "    def generate_maze(self):\n",
    "        maze = [[] for _ in range(self.n)]\n",
    "\n",
    "        V = [True ] + \\\n",
    "            [False] * (self.n - 1)\n",
    "        E = [(0, w) for w in self.edges[0]]\n",
    "\n",
    "        n = 1\n",
    "        while n < self.n:\n",
    "            v, w = E.pop(randint(0, len(E)))\n",
    "\n",
    "            if not V[w]:\n",
    "                maze[v].append(w)\n",
    "                maze[w].append(v)\n",
    "\n",
    "                V[w] = True\n",
    "                for w2 in self.edges[w]:\n",
    "                    if not V[w2]:\n",
    "                        E.append((w, w2))\n",
    "\n",
    "                n += 1\n",
    "\n",
    "        return maze"
   ]
  },
  {
   "cell_type": "markdown",
   "id": "1472d397-b304-4f34-ac18-b62e42317bd6",
   "metadata": {},
   "source": [
    "Checking the possible valid edges:"
   ]
  },
  {
   "cell_type": "code",
   "execution_count": 9,
   "id": "df3f4001-662f-496e-81ca-7ba17371d58c",
   "metadata": {},
   "outputs": [
    {
     "name": "stdout",
     "output_type": "stream",
     "text": [
      "0 0 0 0 0 0 0 0 0 0\n",
      "                    \n",
      "0 0 0 0 0 0 0 0 0 0\n",
      "                    \n",
      "0 0 0 0 0 0 0 0 0 0\n",
      "                    \n",
      "0 0 0 0 0 0 0 0 0 0\n",
      "                    \n",
      "0 0 0 0 0 0 0 0 0 0\n",
      "                    \n",
      "0 0 0 0 0 0 0 0 0 0\n",
      "                    \n",
      "0 0 0 0 0 0 0 0 0 0\n",
      "                    \n",
      "0 0 0 0 0 0 0 0 0 0\n",
      "                    \n",
      "0 0 0 0 0 0 0 0 0 0\n",
      "                    \n",
      "0 0 0 0 0 0 0 0 0 0\n"
     ]
    }
   ],
   "source": [
    "generator = PrimMazeGenerator()\n",
    "\n",
    "print_maze(generator.shape, generator.edges)"
   ]
  },
  {
   "cell_type": "markdown",
   "id": "50cfa82e-a85b-47cd-acee-1e989f9821da",
   "metadata": {},
   "source": [
    "Testing the generator and printing the results:"
   ]
  },
  {
   "cell_type": "code",
   "execution_count": 10,
   "id": "4a6f0e76-4acf-490d-b792-a82e8f5f8fd3",
   "metadata": {},
   "outputs": [
    {
     "name": "stdout",
     "output_type": "stream",
     "text": [
      "0 0 0 0 0 0 0 0|0 0\n",
      "    _             _ \n",
      "0|0 0|0|0|0|0|0 0|0\n",
      "  _   _       _     \n",
      "0 0|0 0|0|0|0|0 0 0\n",
      "    _   _       _   \n",
      "0|0 0|0|0|0|0|0|0 0\n",
      "  _       _     _   \n",
      "0 0|0|0 0|0 0|0 0|0\n",
      "    _ _ _     _ _ _ \n",
      "0|0 0 0 0|0|0 0 0 0\n",
      "  _ _ _ _ _   _     \n",
      "0|0|0 0 0|0|0 0|0|0\n",
      "      _ _   _   _ _ \n",
      "0 0 0|0 0 0 0 0 0 0\n",
      "_   _ _ _           \n",
      "0|0|0|0|0 0|0|0|0|0\n",
      "        _     _   _ \n",
      "0 0 0 0 0|0|0|0 0 0\n"
     ]
    }
   ],
   "source": [
    "maze = generator.generate_maze()\n",
    "\n",
    "print_maze(generator.shape, maze)"
   ]
  },
  {
   "cell_type": "markdown",
   "id": "ed6c9bd1-1b71-4c16-a25a-e8873e832a4a",
   "metadata": {},
   "source": [
    "Checking the efficiency of the maze generator:"
   ]
  },
  {
   "cell_type": "code",
   "execution_count": 11,
   "id": "0bdc4454-960b-4712-82e9-3433e2d2da00",
   "metadata": {},
   "outputs": [
    {
     "name": "stdout",
     "output_type": "stream",
     "text": [
      "1.53 ms ± 23.2 µs per loop (mean ± std. dev. of 7 runs, 1,000 loops each)\n"
     ]
    }
   ],
   "source": [
    "%%timeit\n",
    "\n",
    "_ = generator.generate_maze()"
   ]
  },
  {
   "cell_type": "markdown",
   "id": "4f7f9c6a-6979-4557-a206-9d880071f3a3",
   "metadata": {
    "jp-MarkdownHeadingCollapsed": true
   },
   "source": [
    "## KRUSKAL GENERATOR"
   ]
  },
  {
   "cell_type": "markdown",
   "id": "35bbc0db-e98b-4fb7-9a14-43a744724c80",
   "metadata": {},
   "source": [
    "Defining the class that implements a maze generator inspired by a randomized kruskal algorithm. The maze is represented using an adjacency list, as the resulting graph is expected to be sparse."
   ]
  },
  {
   "cell_type": "code",
   "execution_count": 12,
   "id": "466c06c0",
   "metadata": {},
   "outputs": [],
   "source": [
    "class KruskalMazeGenerator:\n",
    "    def __init__(self, n=100):\n",
    "        self.n = n\n",
    "        self.shape = int(n**0.5)\n",
    "\n",
    "        self.edges = self.generate_edges()\n",
    "\n",
    "    def moves(self, v):\n",
    "        moves = []\n",
    "\n",
    "        if (v + 1) % self.shape:\n",
    "            moves.append((v, v + 1))\n",
    "        if v + self.shape < self.n:\n",
    "            moves.append((v, v + self.shape))\n",
    "\n",
    "        return moves\n",
    "\n",
    "    def generate_edges(self):\n",
    "        return [edge\n",
    "                for v in range(self.n)\n",
    "                for edge in self.moves(v)]\n",
    "\n",
    "    def generate_maze(self):\n",
    "        forest = UnionFind(self.n)\n",
    "        maze   = [[] for _ in range(self.n)]\n",
    "\n",
    "        shuffle(self.edges)\n",
    "\n",
    "        for v, w in self.edges:\n",
    "            if forest.union(v, w):\n",
    "                maze[v].append(w)\n",
    "                maze[w].append(v)\n",
    "\n",
    "                if forest.n == 1:\n",
    "                    return maze"
   ]
  },
  {
   "cell_type": "markdown",
   "id": "009b31f8",
   "metadata": {},
   "source": [
    "Checking the possible valid edges:"
   ]
  },
  {
   "cell_type": "code",
   "execution_count": 13,
   "id": "15d9ae52",
   "metadata": {},
   "outputs": [
    {
     "name": "stdout",
     "output_type": "stream",
     "text": [
      "0 0 0 0 0 0 0 0 0 0\n",
      "                    \n",
      "0 0 0 0 0 0 0 0 0 0\n",
      "                    \n",
      "0 0 0 0 0 0 0 0 0 0\n",
      "                    \n",
      "0 0 0 0 0 0 0 0 0 0\n",
      "                    \n",
      "0 0 0 0 0 0 0 0 0 0\n",
      "                    \n",
      "0 0 0 0 0 0 0 0 0 0\n",
      "                    \n",
      "0 0 0 0 0 0 0 0 0 0\n",
      "                    \n",
      "0 0 0 0 0 0 0 0 0 0\n",
      "                    \n",
      "0 0 0 0 0 0 0 0 0 0\n",
      "                    \n",
      "0 0 0 0 0 0 0 0 0 0\n"
     ]
    }
   ],
   "source": [
    "generator = KruskalMazeGenerator()\n",
    "\n",
    "edges = [[] for _ in range(generator.n)]\n",
    "for v, w in generator.edges:\n",
    "    edges[v].append(w)\n",
    "    edges[w].append(v)\n",
    "\n",
    "print_maze(generator.shape, edges)"
   ]
  },
  {
   "cell_type": "markdown",
   "id": "91356ed4",
   "metadata": {},
   "source": [
    "Testing the generator and printing the results:"
   ]
  },
  {
   "cell_type": "code",
   "execution_count": 14,
   "id": "cbeda35f-e145-470d-8729-c0f0ad4405a1",
   "metadata": {},
   "outputs": [
    {
     "name": "stdout",
     "output_type": "stream",
     "text": [
      "0 0 0|0|0 0 0 0 0|0\n",
      "  _       _ _ _     \n",
      "0|0|0|0 0 0 0 0|0 0\n",
      "        _ _ _   _   \n",
      "0 0|0 0 0 0|0|0 0|0\n",
      "        _     _ _ _ \n",
      "0|0|0|0 0|0 0|0|0 0\n",
      "_ _ _   _   _   _   \n",
      "0 0|0|0 0|0|0|0 0 0\n",
      "  _   _   _       _ \n",
      "0 0|0|0|0 0 0|0|0 0\n",
      "_       _ _     _ _ \n",
      "0|0 0 0 0|0 0 0 0|0\n",
      "        _           \n",
      "0 0|0|0|0 0|0|0|0 0\n",
      "  _ _     _     _   \n",
      "0|0|0|0 0 0|0|0|0|0\n",
      "          _   _     \n",
      "0|0 0 0|0 0|0 0|0 0\n"
     ]
    }
   ],
   "source": [
    "maze = generator.generate_maze()\n",
    "\n",
    "print_maze(generator.shape, maze)"
   ]
  },
  {
   "cell_type": "markdown",
   "id": "fd53d4f3-a2f8-4b61-970c-78713a9d0527",
   "metadata": {},
   "source": [
    "Checking the efficiency of the maze generator:"
   ]
  },
  {
   "cell_type": "code",
   "execution_count": 15,
   "id": "0b295b3f-91ca-4a20-b34a-bb8ff13305ed",
   "metadata": {},
   "outputs": [
    {
     "name": "stdout",
     "output_type": "stream",
     "text": [
      "236 µs ± 15.6 µs per loop (mean ± std. dev. of 7 runs, 1,000 loops each)\n"
     ]
    }
   ],
   "source": [
    "%%timeit\n",
    "\n",
    "_ = generator.generate_maze()"
   ]
  }
 ],
 "metadata": {
  "kernelspec": {
   "display_name": "Python 3 (ipykernel)",
   "language": "python",
   "name": "python3"
  },
  "language_info": {
   "codemirror_mode": {
    "name": "ipython",
    "version": 3
   },
   "file_extension": ".py",
   "mimetype": "text/x-python",
   "name": "python",
   "nbconvert_exporter": "python",
   "pygments_lexer": "ipython3",
   "version": "3.11.4"
  }
 },
 "nbformat": 4,
 "nbformat_minor": 5
}
