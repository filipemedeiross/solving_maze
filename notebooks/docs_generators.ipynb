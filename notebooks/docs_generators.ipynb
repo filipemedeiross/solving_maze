{
 "cells": [
  {
   "cell_type": "markdown",
   "id": "4dda453f-2ac9-4d50-a17f-38ec78c9a831",
   "metadata": {},
   "source": [
    "# DOCUMENTING THE MAZE GENERATOR\r\n",
    "\r\n",
    "\r\n"
   ]
  },
  {
   "cell_type": "markdown",
   "id": "5ff7b654-49bc-4ac5-8c5a-4554403beae3",
   "metadata": {
    "jp-MarkdownHeadingCollapsed": true
   },
   "source": [
    "## PREPARING THE DEVELOPMENT ENVIRONMENT"
   ]
  },
  {
   "cell_type": "markdown",
   "id": "318c475e-23c6-435f-b7ac-b9bbe152cb93",
   "metadata": {},
   "source": [
    "Importing the libraries:"
   ]
  },
  {
   "cell_type": "code",
   "execution_count": 1,
   "id": "59328293-008e-4d89-8607-45ef36799d13",
   "metadata": {},
   "outputs": [],
   "source": [
    "from pathlib import Path\n",
    "from collections import deque\n",
    "from numpy.random import shuffle\n",
    "\n",
    "import cv2\n",
    "import glob\n",
    "import shutil\n",
    "import numpy as np\n",
    "import networkx as nx\n",
    "import matplotlib.pyplot as plt"
   ]
  },
  {
   "cell_type": "markdown",
   "id": "ad817c6b-61b3-4fd7-baff-8210cd6b69a5",
   "metadata": {},
   "source": [
    "Defining a dictionary with the pre-established positions of the graph vertices:\r\n",
    "\r\n",
    "\r\n"
   ]
  },
  {
   "cell_type": "code",
   "execution_count": 2,
   "id": "d5ca09c3-6e9f-43bc-8aa3-fcbe16a21cbf",
   "metadata": {},
   "outputs": [],
   "source": [
    "pos = {\n",
    "    0  : np.array([-0.51696583,  0.93714869]),\n",
    "    1  : np.array([-0.56742641,  0.82253354]),\n",
    "    2  : np.array([-0.62719935,   0.6729658]),\n",
    "    3  : np.array([-0.68765874,  0.50267799]),\n",
    "    4  : np.array([-0.74382698,  0.32035925]),\n",
    "    5  : np.array([ -0.7941627,  0.13217055]),\n",
    "    6  : np.array([-0.83666331, -0.05578246]),\n",
    "    7  : np.array([-0.86996528, -0.23595114]),\n",
    "    8  : np.array([-0.89094869, -0.39926238]),\n",
    "    9  : np.array([-0.89163946, -0.53053518]),\n",
    "    10 : np.array([-0.38733367,  0.91693445]),\n",
    "    11 : np.array([-0.43712311,  0.80092016]),\n",
    "    12 : np.array([-0.49716983,  0.65037759]),\n",
    "    13 : np.array([ -0.5581313,  0.48008344]),\n",
    "    14 : np.array([-0.61608378,  0.29792199]),\n",
    "    15 : np.array([-0.66749135,  0.10980975]),\n",
    "    16 : np.array([-0.71289509, -0.07778028]),\n",
    "    17 : np.array([-0.74890233, -0.25729352]),\n",
    "    18 : np.array([-0.77561893, -0.41942676]),\n",
    "    19 : np.array([-0.79111634, -0.54694834]),\n",
    "    20 : np.array([-0.21763917,  0.88636633]),\n",
    "    21 : np.array([-0.26705243,  0.77026095]),\n",
    "    22 : np.array([-0.32663326,  0.61904439]),\n",
    "    23 : np.array([-0.38874385,  0.44821624]),\n",
    "    24 : np.array([-0.44925398,  0.26544396]),\n",
    "    25 : np.array([  -0.503791,  0.07726947]),\n",
    "    26 : np.array([-0.55185069,  -0.1106987]),\n",
    "    27 : np.array([-0.59258626, -0.28972098]),\n",
    "    28 : np.array([ -0.6253616, -0.45151689]),\n",
    "    29 : np.array([-0.64908797, -0.57808267]),\n",
    "    30 : np.array([ -0.0265184,  0.84316223]),\n",
    "    31 : np.array([-0.07569189,  0.72768255]),\n",
    "    32 : np.array([-0.13522642,  0.57630147]),\n",
    "    33 : np.array([-0.19846837,   0.4052692]),\n",
    "    34 : np.array([-0.26184534,  0.22231268]),\n",
    "    35 : np.array([-0.31914537,  0.03504394]),\n",
    "    36 : np.array([-0.37176953, -0.15155968]),\n",
    "    37 : np.array([-0.41760519, -0.33009058]),\n",
    "    38 : np.array([-0.45635494, -0.49089175]),\n",
    "    39 : np.array([-0.48610726, -0.61664203]),\n",
    "    40 : np.array([ 0.17306041,   0.7870388]),\n",
    "    41 : np.array([ 0.12523073,  0.67174665]),\n",
    "    42 : np.array([ 0.06542014,  0.52135366]),\n",
    "    43 : np.array([ 0.00057418,  0.35038808]),\n",
    "    44 : np.array([-0.06446017,  0.16881244]),\n",
    "    45 : np.array([-0.12665467, -0.01764184]),\n",
    "    46 : np.array([-0.18358474, -0.20284045]),\n",
    "    47 : np.array([-0.23517585, -0.37993201]),\n",
    "    48 : np.array([-0.28008131,  -0.5395554]),\n",
    "    49 : np.array([-0.31520095, -0.66452575]),\n",
    "    50 : np.array([ 0.37367169,  0.71735255]),\n",
    "    51 : np.array([  0.3261134,  0.60349739]),\n",
    "    52 : np.array([ 0.26568384,   0.4533447]),\n",
    "    53 : np.array([ 0.20029084,  0.28232821]),\n",
    "    54 : np.array([ 0.13188387,  0.10076766]),\n",
    "    55 : np.array([ 0.06580071, -0.08512693]),\n",
    "    56 : np.array([ 0.00327433, -0.26912593]),\n",
    "    57 : np.array([-0.05435863, -0.44475043]),\n",
    "    58 : np.array([-0.10542573, -0.60277577]),\n",
    "    59 : np.array([-0.14543593, -0.72631346]),\n",
    "    60 : np.array([ 0.56559421,   0.6370167]),\n",
    "    61 : np.array([ 0.51816683,  0.52173925]),\n",
    "    62 : np.array([ 0.45742793,  0.37180072]),\n",
    "    63 : np.array([ 0.39078859,  0.20081206]),\n",
    "    64 : np.array([ 0.32068581,  0.01991257]),\n",
    "    65 : np.array([ 0.25061104, -0.16499424]),\n",
    "    66 : np.array([ 0.18319807, -0.34754591]),\n",
    "    67 : np.array([ 0.11983138, -0.52158416]),\n",
    "    68 : np.array([ 0.06301685,  -0.6776568]),\n",
    "    69 : np.array([  0.0186711, -0.79902472]),\n",
    "    70 : np.array([ 0.73944725,  0.54937204]),\n",
    "    71 : np.array([ 0.69356718,  0.43354057]),\n",
    "    72 : np.array([ 0.63327831,  0.28299777]),\n",
    "    73 : np.array([ 0.56640157,  0.11362039]),\n",
    "    74 : np.array([ 0.49475948, -0.06586195]),\n",
    "    75 : np.array([ 0.42219951, -0.24879945]),\n",
    "    76 : np.array([  0.3508318, -0.42919368]),\n",
    "    77 : np.array([ 0.28323608, -0.60006218]),\n",
    "    78 : np.array([ 0.22174755, -0.75283945]),\n",
    "    79 : np.array([ 0.17375926, -0.87138453]),\n",
    "    80 : np.array([ 0.88851998,  0.46293385]),\n",
    "    81 : np.array([ 0.84461033,  0.34637144]),\n",
    "    82 : np.array([ 0.78622939,  0.19742634]),\n",
    "    83 : np.array([ 0.71890696,  0.03077887]),\n",
    "    84 : np.array([ 0.64701115, -0.14610216]),\n",
    "    85 : np.array([ 0.57298256, -0.32634267]),\n",
    "    86 : np.array([  0.4991802, -0.50380042]),\n",
    "    87 : np.array([ 0.42843525, -0.67146086]),\n",
    "    88 : np.array([ 0.36371804, -0.82063715]),\n",
    "    89 : np.array([ 0.31246931, -0.93602742]),\n",
    "    90 : np.array([         1.,  0.39207751]),\n",
    "    91 : np.array([ 0.95865002,  0.27626818]),\n",
    "    92 : np.array([ 0.90164736,  0.12886004]),\n",
    "    93 : np.array([ 0.83495187, -0.03602707]),\n",
    "    94 : np.array([ 0.76248999, -0.21032434]),\n",
    "    95 : np.array([ 0.68749931, -0.38815742]),\n",
    "    96 : np.array([ 0.61223136,  -0.5631032]),\n",
    "    97 : np.array([ 0.53957587, -0.72800535]),\n",
    "    98 : np.array([ 0.47280378, -0.87360199]),\n",
    "    99 : np.array([ 0.41929671, -0.98512662])\n",
    "}"
   ]
  },
  {
   "cell_type": "markdown",
   "id": "3c2727b3-9641-40ca-b653-481f894b0313",
   "metadata": {},
   "source": [
    "## DOCUMENTATION"
   ]
  },
  {
   "cell_type": "markdown",
   "id": "7992a81a-4d24-4637-950a-eb7b5fd23c12",
   "metadata": {},
   "source": [
    "Enhancing the maze generators with modifications for documentation:\n",
    "\n",
    "> **Note**: For detailed implementation see `notebooks/maze_generator.ipynb`."
   ]
  },
  {
   "cell_type": "code",
   "execution_count": 3,
   "id": "650400a2-0f76-4af4-a9cf-339ce8124aed",
   "metadata": {},
   "outputs": [],
   "source": [
    "class UnionFind:\n",
    "    def __init__(self, n):\n",
    "        self.n = n\n",
    "        self.v = list(range(n))\n",
    "\n",
    "    def find(self, u):\n",
    "        while u != self.v[u]:\n",
    "            self.v[u] = self.v[self.v[u]]\n",
    "            u = self.v[u]\n",
    "\n",
    "        return u\n",
    "\n",
    "    def union(self, u, v):\n",
    "        root_u, root_v = self.find(u), self.find(v)\n",
    "\n",
    "        if root_u == root_v:\n",
    "            return False\n",
    "        else:\n",
    "            self.v[root_v] = root_u\n",
    "            self.n -= 1\n",
    "\n",
    "            return True"
   ]
  },
  {
   "cell_type": "markdown",
   "id": "48c41f64-ad40-41e9-b93b-4fc3a935088d",
   "metadata": {},
   "source": [
    "Documenting the maze generator with depth-first search:\r\n",
    "\r\n",
    "\r\n"
   ]
  },
  {
   "cell_type": "code",
   "execution_count": 4,
   "id": "b306a073-2916-4ade-8f42-0ee9cb84ce2e",
   "metadata": {},
   "outputs": [],
   "source": [
    "class DFSMazeGenerator:\n",
    "    def __init__(self, n=100):\n",
    "        self.n = n\n",
    "        self.shape = int(n**0.5)\n",
    "\n",
    "        self.edges = self.generate_edges()\n",
    "\n",
    "    def moves(self, v):\n",
    "        moves = []\n",
    "\n",
    "        if v % self.shape:\n",
    "            moves.append(v - 1)\n",
    "        if (v + 1) % self.shape:\n",
    "            moves.append(v + 1)\n",
    "        if v >= self.shape:\n",
    "            moves.append(v - self.shape)\n",
    "        if v < self.n - self.shape:\n",
    "            moves.append(v + self.shape)\n",
    "\n",
    "        return moves\n",
    "\n",
    "    def generate_edges(self):\n",
    "        return [self.moves(v)\n",
    "                for v in range(self.n)]\n",
    "\n",
    "    def shuffle_edges(self):\n",
    "        edges = self.generate_edges()\n",
    "\n",
    "        for adj in edges:\n",
    "            shuffle(adj)\n",
    "\n",
    "        return edges\n",
    "\n",
    "    def generate_maze(self):\n",
    "        maze = nx.Graph()\n",
    "        \n",
    "        stack  = deque([])\n",
    "        explored = set([])\n",
    "        frontier = self.shuffle_edges()\n",
    "\n",
    "        v = 0\n",
    "        explored.add(v)\n",
    "        while True:\n",
    "            while not frontier[v]:\n",
    "                if not stack:\n",
    "                    return maze\n",
    "\n",
    "                v = stack.pop()\n",
    "\n",
    "            w = frontier[v].pop()\n",
    "\n",
    "            if w not in explored:\n",
    "                maze.add_edge(v, w)\n",
    "                self.savefig(maze)\n",
    "\n",
    "                stack.append(v)\n",
    "                explored.add(w)\n",
    "                v  = w\n",
    "\n",
    "    def savefig(self, maze):\n",
    "        plt.figure(figsize=(8, 6))\n",
    "\n",
    "        nx.draw(maze, pos, with_labels=False, node_size=100,\n",
    "                node_color='lightblue', edge_color='gray', width=0.5)\n",
    "\n",
    "        plt.axis('equal')\n",
    "        if maze.number_of_edges() < 10:\n",
    "            plt.savefig(f'docs_dfs/maze0{maze.number_of_edges()}.png')\n",
    "        else:\n",
    "            plt.savefig(f'docs_dfs/maze{maze.number_of_edges()}.png')\n",
    "        plt.close()"
   ]
  },
  {
   "cell_type": "code",
   "execution_count": 5,
   "id": "62f3ffe4-047b-4d4d-aeeb-7b394bf649a0",
   "metadata": {},
   "outputs": [],
   "source": [
    "generator = DFSMazeGenerator()\n",
    "\n",
    "_ = generator.generate_maze()"
   ]
  },
  {
   "cell_type": "markdown",
   "id": "2ec5922c-8d20-460a-945f-4a899060897f",
   "metadata": {},
   "source": [
    "Documenting the maze generator with the kruskal's algorithm:\r\n",
    "\r\n",
    "\r\n"
   ]
  },
  {
   "cell_type": "code",
   "execution_count": 6,
   "id": "d3fc4db0-6de1-4b7f-bd2a-5ca53492f525",
   "metadata": {},
   "outputs": [],
   "source": [
    "class KruskalMazeGenerator:\n",
    "    def __init__(self, n=100):\n",
    "        self.n = n\n",
    "        self.shape = int(n**0.5)\n",
    "\n",
    "        self.edges = self.generate_edges()\n",
    "\n",
    "    def moves(self, v):\n",
    "        moves = []\n",
    "\n",
    "        if (v + 1) % self.shape:\n",
    "            moves.append((v, v + 1))\n",
    "        if v + self.shape < self.n:\n",
    "            moves.append((v, v + self.shape))\n",
    "\n",
    "        return moves\n",
    "\n",
    "    def generate_edges(self):\n",
    "        return [edge\n",
    "                for v in range(self.n)\n",
    "                for edge in self.moves(v)]\n",
    "\n",
    "    def generate_maze(self):\n",
    "        maze = nx.Graph()\n",
    "        forest = UnionFind(self.n)\n",
    "\n",
    "        shuffle(self.edges)\n",
    "\n",
    "        for v, w in self.edges:\n",
    "            if forest.union(v, w):\n",
    "                maze.add_edge(v, w)\n",
    "                self.savefig(maze)\n",
    "\n",
    "                if forest.n == 1:\n",
    "                    return maze\n",
    "\n",
    "    def savefig(self, maze):\n",
    "        plt.figure(figsize=(8, 6))\n",
    "\n",
    "        nx.draw(maze, pos, with_labels=False, node_size=100,\n",
    "                node_color='lightblue', edge_color='gray', width=0.5)\n",
    "\n",
    "        plt.axis('equal')\n",
    "        if maze.number_of_edges() < 10:\n",
    "            plt.savefig(f'docs_kruskal/maze0{maze.number_of_edges()}.png')\n",
    "        else:\n",
    "            plt.savefig(f'docs_kruskal/maze{maze.number_of_edges()}.png')\n",
    "        plt.close()"
   ]
  },
  {
   "cell_type": "code",
   "execution_count": 7,
   "id": "0ea5606c-4aa4-402b-b920-426e6e6ebe23",
   "metadata": {},
   "outputs": [],
   "source": [
    "generator = KruskalMazeGenerator()\n",
    "\n",
    "_ = generator.generate_maze()"
   ]
  },
  {
   "cell_type": "markdown",
   "id": "dde3ed83-11c2-4636-8c5c-bc593c505238",
   "metadata": {},
   "source": [
    "Compiling the videos of maze creations by different generator methods:\r\n",
    "\r\n",
    "\r\n"
   ]
  },
  {
   "cell_type": "code",
   "execution_count": 8,
   "id": "5a73a3db-401f-48b5-8833-35868658c1a8",
   "metadata": {},
   "outputs": [
    {
     "data": {
      "text/plain": [
       "'docs_dfs/maze_generation_dfs.mp4'"
      ]
     },
     "execution_count": 8,
     "metadata": {},
     "output_type": "execute_result"
    }
   ],
   "source": [
    "args_input  = 'docs_dfs/*'\n",
    "args_output = 'docs_dfs/maze_generation_dfs.mp4'\n",
    "args_fps    = 6\n",
    "\n",
    "files = glob.glob(args_input)\n",
    "filename = Path(args_output).name\n",
    "height, width, _ = cv2.imread(files[0]).shape\n",
    "\n",
    "fourc = cv2.VideoWriter_fourcc(*'mp4v')\n",
    "video = cv2.VideoWriter(filename=filename, fourcc=fourc,\n",
    "                        fps=args_fps, frameSize=(width, height))\n",
    "\n",
    "for image in files:\n",
    "    video.write(cv2.imread(image))\n",
    "\n",
    "cv2.destroyAllWindows()\n",
    "video.release()\n",
    "shutil.move(filename, args_output)"
   ]
  },
  {
   "cell_type": "code",
   "execution_count": 9,
   "id": "36d8536e-7deb-4e8e-bc11-4b32dd139b04",
   "metadata": {},
   "outputs": [
    {
     "data": {
      "text/plain": [
       "'docs_kruskal/maze_generation_kruskal.mp4'"
      ]
     },
     "execution_count": 9,
     "metadata": {},
     "output_type": "execute_result"
    }
   ],
   "source": [
    "args_input  = 'docs_kruskal/*'\n",
    "args_output = 'docs_kruskal/maze_generation_kruskal.mp4'\n",
    "args_fps    = 6\n",
    "\n",
    "files = glob.glob(args_input)\n",
    "filename = Path(args_output).name\n",
    "height, width, _ = cv2.imread(files[0]).shape\n",
    "\n",
    "fourc = cv2.VideoWriter_fourcc(*'mp4v')\n",
    "video = cv2.VideoWriter(filename=filename, fourcc=fourc,\n",
    "                        fps=args_fps, frameSize=(width, height))\n",
    "\n",
    "for image in files:\n",
    "    video.write(cv2.imread(image))\n",
    "\n",
    "cv2.destroyAllWindows()\n",
    "video.release()\n",
    "shutil.move(filename, args_output)"
   ]
  }
 ],
 "metadata": {
  "kernelspec": {
   "display_name": "Python 3 (ipykernel)",
   "language": "python",
   "name": "python3"
  },
  "language_info": {
   "codemirror_mode": {
    "name": "ipython",
    "version": 3
   },
   "file_extension": ".py",
   "mimetype": "text/x-python",
   "name": "python",
   "nbconvert_exporter": "python",
   "pygments_lexer": "ipython3",
   "version": "3.11.4"
  }
 },
 "nbformat": 4,
 "nbformat_minor": 5
}
